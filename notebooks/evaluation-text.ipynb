{
 "cells": [
  {
   "cell_type": "markdown",
   "id": "9a501d7b-8e75-44bd-bcfe-89a5b56a7a74",
   "metadata": {},
   "source": [
    "# Install"
   ]
  },
  {
   "cell_type": "code",
   "execution_count": 1,
   "id": "8da03e46-34a8-4b17-a9c6-85febe425be3",
   "metadata": {},
   "outputs": [],
   "source": [
    "!pip -qq install elasticsearch"
   ]
  },
  {
   "cell_type": "code",
   "execution_count": 2,
   "id": "b5d1a428-bc6d-4dc9-8cf2-cacf5403ee64",
   "metadata": {},
   "outputs": [],
   "source": [
    "!pip -qq install tqdm"
   ]
  },
  {
   "cell_type": "code",
   "execution_count": 157,
   "id": "f2812fd3-aa31-4e51-9c30-38e62daeb603",
   "metadata": {},
   "outputs": [],
   "source": [
    "!pip -qq install hyperopt"
   ]
  },
  {
   "cell_type": "code",
   "execution_count": 152,
   "id": "baaf9380-1ba6-4d8e-82be-9e0bd9d9eee9",
   "metadata": {},
   "outputs": [],
   "source": [
    "!pip -qq install --upgrade ipywidgets"
   ]
  },
  {
   "cell_type": "markdown",
   "id": "02ddb84e-33e6-4cd8-84ff-890e84bc1323",
   "metadata": {},
   "source": [
    "# Check Google Colab"
   ]
  },
  {
   "cell_type": "code",
   "execution_count": 1,
   "id": "4e29a300-9e00-4db6-be95-7497cb075944",
   "metadata": {},
   "outputs": [
    {
     "name": "stdout",
     "output_type": "stream",
     "text": [
      "am I in Colab? False\n"
     ]
    }
   ],
   "source": [
    "try:\n",
    "  import google.colab\n",
    "  from google.colab import drive\n",
    "  drive.mount('/content/drive')\n",
    "  IN_COLAB = True\n",
    "except:\n",
    "  IN_COLAB = False\n",
    "print(f\"am I in Colab? {IN_COLAB}\")"
   ]
  },
  {
   "cell_type": "markdown",
   "id": "d088f4dd-636d-4e48-8b0e-c4d372452399",
   "metadata": {},
   "source": [
    "# Import"
   ]
  },
  {
   "cell_type": "code",
   "execution_count": 2,
   "id": "c56149d7-e002-47eb-b89f-91e84fccda37",
   "metadata": {},
   "outputs": [],
   "source": [
    "import os\n",
    "import json\n",
    "import pandas as pd\n",
    "import numpy as np\n",
    "\n",
    "from tqdm.auto import tqdm\n",
    "\n",
    "# Elasticsearch\n",
    "from elasticsearch import Elasticsearch\n",
    "from sklearn.model_selection import train_test_split\n",
    "\n",
    "# Model\n",
    "#from sentence_transformers import SentenceTransformer\n",
    "from langchain_huggingface import HuggingFaceEmbeddings\n",
    "#from langchain_core.embeddings import Embeddings\n",
    "\n",
    "# Elasticsearch\n",
    "from elasticsearch import Elasticsearch"
   ]
  },
  {
   "cell_type": "code",
   "execution_count": 3,
   "id": "8f3c18f2-278d-4645-9409-97b49b623735",
   "metadata": {},
   "outputs": [
    {
     "data": {
      "text/plain": [
       "'1.26.4'"
      ]
     },
     "execution_count": 3,
     "metadata": {},
     "output_type": "execute_result"
    }
   ],
   "source": [
    "np.__version__"
   ]
  },
  {
   "cell_type": "markdown",
   "id": "09042ca8-c3e2-468a-9ca7-e2ee856f7024",
   "metadata": {},
   "source": [
    "# Settings"
   ]
  },
  {
   "cell_type": "code",
   "execution_count": 4,
   "id": "71e5b636-d52f-44ad-8666-e4fee87fcdda",
   "metadata": {},
   "outputs": [],
   "source": [
    "if IN_COLAB:\n",
    "  # Colab\n",
    "  BASE_DIR = \".\"\n",
    "  BACKUPS_DATA_DIR   = \"/content/drive/MyDrive/Colab Notebooks/Dataclub/llm/data\"\n",
    "else:\n",
    "  # Local\n",
    "  BASE_DIR = \"..\"\n",
    "  BACKUPS_DATA_DIR   = \"../backups\"\n",
    "\n",
    "# Raw directory\n",
    "RAW_DATA_DIR               = f\"{BASE_DIR}/data/raw\"\n",
    "RAW_DOCS_DATA_DIR          = f\"{BASE_DIR}/data/raw/documents\"\n",
    "RAW_INFO_DATA_DIR          = f\"{BASE_DIR}/data/raw/info\"\n",
    "# Preprocessing\n",
    "PROCESSED_DATA_DIR         = f\"{BASE_DIR}/data/processed\"\n",
    "PROCESSED_DOCS_DATA_DIR    = f\"{BASE_DIR}/data/processed/documents\"\n",
    "# Test directory\n",
    "TEST_DATA_DIR               = f\"{BASE_DIR}/data/test\"\n",
    "GROUND_TRUTH_DATA_DIR       = f\"{BASE_DIR}/data/test/ground_truth\"\n",
    "GROUND_TRUTH_DOCS_DATA_DIR  = f\"{BASE_DIR}/data/test/ground_truth/documents\"\n",
    "GROUND_TRUTH_GEN_DATA_DIR   = f\"{BASE_DIR}/data/test/ground_truth/generated\"\n",
    "# Test directory\n",
    "EVAL_DATA_DIR            = f\"{BASE_DIR}/data/evaluation\"\n",
    "EVAL_RETRIEVER_DATA_DIR  = f\"{BASE_DIR}/data/evaluation/retriever\"\n",
    "EVAL_RAG_DATA_DIR        = f\"{BASE_DIR}/data/evaluation/rag\"\n",
    "\n",
    "# Raw Info\n",
    "PLAYLIST_INFO_PATH = f\"{RAW_INFO_DATA_DIR}/playlist_info.pkl\"\n",
    "VIDEO_PLAYLIST_MAP_PATH = f\"{RAW_INFO_DATA_DIR}/video_playlist_map.pkl\"\n",
    "\n",
    "# Ground-truth\n",
    "GROUND_TRUTH_PATH = f\"{GROUND_TRUTH_DATA_DIR}/ground-truth-retrieval.csv\"\n",
    "\n",
    "# Optimization\n",
    "REST_OPT_ES_BM25_PATH       = f\"{EVAL_RETRIEVER_DATA_DIR}/res-opt-es-bm25.json\"\n",
    "REST_OPT_ES_HYBRID_PATH     = f\"{EVAL_RETRIEVER_DATA_DIR}/res-opt-es-hybrid.json\"\n",
    "REST_OPT_ES_HYBRID_RRF_PATH = f\"{EVAL_RETRIEVER_DATA_DIR}/res-opt-es-hybrid-rrf.json\"\n",
    "\n",
    "# Make dirs if not exists\n",
    "if not os.path.exists(RAW_DATA_DIR):\n",
    "  print(\"Not exists dir: \", RAW_DATA_DIR)\n",
    "os.makedirs(RAW_DOCS_DATA_DIR, exist_ok=True)\n",
    "os.makedirs(RAW_INFO_DATA_DIR, exist_ok=True)\n",
    "os.makedirs(PROCESSED_DOCS_DATA_DIR, exist_ok=True)\n",
    "os.makedirs(TEST_DATA_DIR, exist_ok=True)\n",
    "os.makedirs(EVAL_DATA_DIR, exist_ok=True)\n",
    "os.makedirs(EVAL_RETRIEVER_DATA_DIR, exist_ok=True)\n",
    "os.makedirs(EVAL_RAG_DATA_DIR, exist_ok=True)\n",
    "os.makedirs(BACKUPS_DATA_DIR, exist_ok=True)"
   ]
  },
  {
   "cell_type": "code",
   "execution_count": 5,
   "id": "b177dc3d-28da-41de-aa73-ac3e05b24e06",
   "metadata": {},
   "outputs": [],
   "source": [
    "%load_ext autoreload\n",
    "%autoreload 2\n",
    "import os\n",
    "import sys\n",
    "\n",
    "# Agregar solo si no está ya en sys.path\n",
    "if BASE_DIR not in sys.path:\n",
    "    sys.path.append(BASE_DIR)\n",
    "\n",
    "# Ahora puedes importar tu módulo\n",
    "import cooking_recipe_assistant\n",
    "from cooking_recipe_assistant.commons.utils import (\n",
    "    read_pickle, \n",
    "    read_document, \n",
    "    read_text,\n",
    "    save_pickle, \n",
    "    save_document,\n",
    "    save_text\n",
    ")\n",
    "\n",
    "from cooking_recipe_assistant.evaluation.retrievers import evaluate\n",
    "from cooking_recipe_assistant.evaluation.optimization import run_hyperopt\n",
    "from cooking_recipe_assistant.rags.retrievers.es_bm25 import es_bm25_query\n",
    "from cooking_recipe_assistant.rags.retrievers.es_hybrid import es_hybrid_query\n",
    "from cooking_recipe_assistant.rags.retrievers.es_hybrid_rrf import es_hybrid_rrf_query"
   ]
  },
  {
   "cell_type": "code",
   "execution_count": 6,
   "id": "33515d64-e749-4970-b85d-ce886be1fba3",
   "metadata": {},
   "outputs": [],
   "source": [
    "ES_URL = \"http://localhost:9200\"\n",
    "INDEX_NAME = \"cooking-recipes\""
   ]
  },
  {
   "cell_type": "code",
   "execution_count": 7,
   "id": "87257f2e-7bbe-4bf7-932e-fa133a11b7a0",
   "metadata": {},
   "outputs": [],
   "source": [
    "ES_CLIENT = Elasticsearch(hosts=[ES_URL])"
   ]
  },
  {
   "cell_type": "code",
   "execution_count": 8,
   "id": "cf37f143-9c66-472a-bf15-77e7e800a768",
   "metadata": {},
   "outputs": [],
   "source": [
    "os.environ[\"TOKENIZERS_PARALLELISM\"] = \"false\"\n",
    "MINILM_EMBEDDING_MODEL_NAME = 'all-MiniLM-L6-v2'\n",
    "#NMNET_EMBEDDING_MODEL_NAME = 'all-mpnet-base-v2'\n",
    "BATCH_SIZE = 100"
   ]
  },
  {
   "cell_type": "code",
   "execution_count": 9,
   "id": "9a8ae34f-d687-4462-b8c9-6b8f1192c413",
   "metadata": {},
   "outputs": [],
   "source": [
    "EMBEDDINGS = HuggingFaceEmbeddings(model_name=MINILM_EMBEDDING_MODEL_NAME)\n",
    "#EMBEDDINGS = HuggingFaceEmbeddings(model_name=NMNET_EMBEDDING_MODEL_NAME)"
   ]
  },
  {
   "cell_type": "code",
   "execution_count": 10,
   "id": "13fcea54-e5c7-4efc-be61-3f22c236a4b6",
   "metadata": {},
   "outputs": [
    {
     "name": "stdout",
     "output_type": "stream",
     "text": [
      "Sat Oct 26 21:28:52 2024       \n",
      "+-----------------------------------------------------------------------------------------+\n",
      "| NVIDIA-SMI 550.107.02             Driver Version: 550.107.02     CUDA Version: 12.4     |\n",
      "|-----------------------------------------+------------------------+----------------------+\n",
      "| GPU  Name                 Persistence-M | Bus-Id          Disp.A | Volatile Uncorr. ECC |\n",
      "| Fan  Temp   Perf          Pwr:Usage/Cap |           Memory-Usage | GPU-Util  Compute M. |\n",
      "|                                         |                        |               MIG M. |\n",
      "|=========================================+========================+======================|\n",
      "|   0  NVIDIA GeForce GTX 1050        Off |   00000000:01:00.0 Off |                  N/A |\n",
      "| N/A   46C    P0             N/A / ERR!  |     153MiB /   4096MiB |      1%      Default |\n",
      "|                                         |                        |                  N/A |\n",
      "+-----------------------------------------+------------------------+----------------------+\n",
      "                                                                                         \n",
      "+-----------------------------------------------------------------------------------------+\n",
      "| Processes:                                                                              |\n",
      "|  GPU   GI   CI        PID   Type   Process name                              GPU Memory |\n",
      "|        ID   ID                                                               Usage      |\n",
      "|=========================================================================================|\n",
      "|    0   N/A  N/A      2769      G   /usr/lib/xorg/Xorg                              4MiB |\n",
      "|    0   N/A  N/A      8047      C   ...vs/zoomcamp-llm-v-cF8mf4/bin/python        144MiB |\n",
      "+-----------------------------------------------------------------------------------------+\n"
     ]
    }
   ],
   "source": [
    "!nvidia-smi"
   ]
  },
  {
   "cell_type": "markdown",
   "id": "e20f6670-2fa5-4bdb-8597-c1100f949fc3",
   "metadata": {},
   "source": [
    "# Check ElasticSearch"
   ]
  },
  {
   "cell_type": "code",
   "execution_count": 12,
   "id": "ca179266-66f4-480b-9419-647f6801a1d3",
   "metadata": {},
   "outputs": [
    {
     "name": "stdout",
     "output_type": "stream",
     "text": [
      "{\n",
      "    \"name\": \"bd9dd9bd70f5\",\n",
      "    \"cluster_name\": \"docker-cluster\",\n",
      "    \"cluster_uuid\": \"wg43N1DqSdy9g9z_pOLIDQ\",\n",
      "    \"version\": {\n",
      "        \"number\": \"8.4.3\",\n",
      "        \"build_flavor\": \"default\",\n",
      "        \"build_type\": \"docker\",\n",
      "        \"build_hash\": \"42f05b9372a9a4a470db3b52817899b99a76ee73\",\n",
      "        \"build_date\": \"2022-10-04T07:17:24.662462378Z\",\n",
      "        \"build_snapshot\": false,\n",
      "        \"lucene_version\": \"9.3.0\",\n",
      "        \"minimum_wire_compatibility_version\": \"7.17.0\",\n",
      "        \"minimum_index_compatibility_version\": \"7.0.0\"\n",
      "    },\n",
      "    \"tagline\": \"You Know, for Search\"\n",
      "}\n"
     ]
    }
   ],
   "source": [
    "info_es = ES_CLIENT.info()\n",
    "print(json.dumps(info_es.body, indent=4))"
   ]
  },
  {
   "cell_type": "code",
   "execution_count": 13,
   "id": "cb6d93dd-bbfa-4db0-a0c5-a05b590f8b2e",
   "metadata": {},
   "outputs": [
    {
     "name": "stdout",
     "output_type": "stream",
     "text": [
      "{\n",
      "    \"cooking-recipes\": {\n",
      "        \"aliases\": {},\n",
      "        \"mappings\": {\n",
      "            \"properties\": {\n",
      "                \"chunk_number\": {\n",
      "                    \"type\": \"integer\"\n",
      "                },\n",
      "                \"doc_id\": {\n",
      "                    \"type\": \"text\",\n",
      "                    \"fields\": {\n",
      "                        \"keyword\": {\n",
      "                            \"type\": \"keyword\",\n",
      "                            \"ignore_above\": 256\n",
      "                        }\n",
      "                    }\n",
      "                },\n",
      "                \"id\": {\n",
      "                    \"type\": \"text\"\n",
      "                },\n",
      "                \"ingredients\": {\n",
      "                    \"type\": \"keyword\"\n",
      "                },\n",
      "                \"meals\": {\n",
      "                    \"type\": \"keyword\"\n",
      "                },\n",
      "                \"summart_vector\": {\n",
      "                    \"type\": \"float\"\n",
      "                },\n",
      "                \"summary\": {\n",
      "                    \"type\": \"text\"\n",
      "                },\n",
      "                \"summary_vector\": {\n",
      "                    \"type\": \"dense_vector\",\n",
      "                    \"dims\": 384,\n",
      "                    \"index\": true,\n",
      "                    \"similarity\": \"cosine\"\n",
      "                },\n",
      "                \"text\": {\n",
      "                    \"type\": \"text\"\n",
      "                },\n",
      "                \"text_vector\": {\n",
      "                    \"type\": \"dense_vector\",\n",
      "                    \"dims\": 384,\n",
      "                    \"index\": true,\n",
      "                    \"similarity\": \"cosine\"\n",
      "                },\n",
      "                \"tips\": {\n",
      "                    \"type\": \"keyword\"\n",
      "                },\n",
      "                \"title\": {\n",
      "                    \"type\": \"text\"\n",
      "                },\n",
      "                \"title_vector\": {\n",
      "                    \"type\": \"dense_vector\",\n",
      "                    \"dims\": 384,\n",
      "                    \"index\": true,\n",
      "                    \"similarity\": \"cosine\"\n",
      "                }\n",
      "            }\n",
      "        },\n",
      "        \"settings\": {\n",
      "            \"index\": {\n",
      "                \"routing\": {\n",
      "                    \"allocation\": {\n",
      "                        \"include\": {\n",
      "                            \"_tier_preference\": \"data_content\"\n",
      "                        }\n",
      "                    }\n",
      "                },\n",
      "                \"number_of_shards\": \"1\",\n",
      "                \"provided_name\": \"cooking-recipes\",\n",
      "                \"creation_date\": \"1729698947472\",\n",
      "                \"number_of_replicas\": \"0\",\n",
      "                \"uuid\": \"xRPfDileSMin8UmdVwEoOQ\",\n",
      "                \"version\": {\n",
      "                    \"created\": \"8040399\"\n",
      "                }\n",
      "            }\n",
      "        }\n",
      "    }\n",
      "}\n"
     ]
    }
   ],
   "source": [
    "if ES_CLIENT.indices.exists(index=INDEX_NAME):\n",
    "    info_indice = ES_CLIENT.indices.get(index=INDEX_NAME)\n",
    "    print(json.dumps(info_indice.body, indent=4))"
   ]
  },
  {
   "cell_type": "code",
   "execution_count": 14,
   "id": "134bb40e-5bcd-47cb-8d35-d170601b2de9",
   "metadata": {},
   "outputs": [
    {
     "name": "stdout",
     "output_type": "stream",
     "text": [
      "{\n",
      "    \"cooking-recipes\": {\n",
      "        \"settings\": {\n",
      "            \"index\": {\n",
      "                \"routing\": {\n",
      "                    \"allocation\": {\n",
      "                        \"include\": {\n",
      "                            \"_tier_preference\": \"data_content\"\n",
      "                        }\n",
      "                    }\n",
      "                },\n",
      "                \"number_of_shards\": \"1\",\n",
      "                \"provided_name\": \"cooking-recipes\",\n",
      "                \"creation_date\": \"1729698947472\",\n",
      "                \"number_of_replicas\": \"0\",\n",
      "                \"uuid\": \"xRPfDileSMin8UmdVwEoOQ\",\n",
      "                \"version\": {\n",
      "                    \"created\": \"8040399\"\n",
      "                }\n",
      "            }\n",
      "        }\n",
      "    }\n",
      "}\n"
     ]
    }
   ],
   "source": [
    "if ES_CLIENT.indices.exists(index=INDEX_NAME):\n",
    "    settings = ES_CLIENT.indices.get_settings(index=INDEX_NAME)\n",
    "    print(json.dumps(settings.body, indent=4))"
   ]
  },
  {
   "cell_type": "code",
   "execution_count": 15,
   "id": "2d8ba1d9-06c4-4f2b-8963-8de84d0002c9",
   "metadata": {},
   "outputs": [
    {
     "name": "stdout",
     "output_type": "stream",
     "text": [
      "232\n"
     ]
    }
   ],
   "source": [
    "if ES_CLIENT.indices.exists(index=INDEX_NAME):\n",
    "    count = ES_CLIENT.count(index=INDEX_NAME)['count']\n",
    "    print(count)"
   ]
  },
  {
   "cell_type": "markdown",
   "id": "4d1d010a-159b-4834-a95c-979ccea7e0f3",
   "metadata": {},
   "source": [
    "# Check Embedding"
   ]
  },
  {
   "cell_type": "code",
   "execution_count": 16,
   "id": "cd587638-388d-4f0f-ba08-ba7a98bf7433",
   "metadata": {},
   "outputs": [
    {
     "name": "stdout",
     "output_type": "stream",
     "text": [
      "<class 'list'> 384\n",
      "[-0.0330653041601181, -0.04929623752832413, 0.0011787894181907177, -0.052408911287784576, -0.03758711367845535, 0.025819668546319008, -0.03928522393107414, 0.05620158091187477, 0.09028893709182739, -0.052350003272295]\n"
     ]
    }
   ],
   "source": [
    "text = \"LangChain is a framework for developing applications powered by language models.\"\n",
    "\n",
    "\n",
    "embedding_vector = EMBEDDINGS.embed_query(text)\n",
    "print(type(embedding_vector), len(embedding_vector))\n",
    "print(embedding_vector[:10])"
   ]
  },
  {
   "cell_type": "markdown",
   "id": "6311f0e2-4124-43d2-a20f-3803860dcf45",
   "metadata": {},
   "source": [
    "# Ground-truth"
   ]
  },
  {
   "cell_type": "markdown",
   "id": "fd0aa3ab-3eb6-4841-9c18-fb405e58ce9b",
   "metadata": {},
   "source": [
    "## Read Questions"
   ]
  },
  {
   "cell_type": "code",
   "execution_count": 117,
   "id": "c0a7eb77-eb49-4ead-8cd3-a9a1773bc68b",
   "metadata": {},
   "outputs": [
    {
     "name": "stdout",
     "output_type": "stream",
     "text": [
      "-rw-rw-r-- 1 aztleclan aztleclan 2,2K oct 12 22:44 playlist_info.pkl\n",
      "-rw-rw-r-- 1 aztleclan aztleclan  11K oct 12 22:44 video_playlist_map.pkl\n"
     ]
    }
   ],
   "source": [
    "#!ls -lh \"{RAW_DATA_DIR}\" 2>null | grep json 2>null| head -5\n",
    "!ls -lh '{RAW_DATA_DIR}' 2>/dev/null | grep pkl  2>/dev/null | head -5"
   ]
  },
  {
   "cell_type": "code",
   "execution_count": 118,
   "id": "3b707abf-cfed-4742-88f7-35ef7a3dbc0c",
   "metadata": {},
   "outputs": [
    {
     "name": "stdout",
     "output_type": "stream",
     "text": [
      "-rw-rw-r-- 1 aztleclan aztleclan 3,3K oct 23 17:55 086AnjxzAfg.json\n",
      "-rw-rw-r-- 1 aztleclan aztleclan 3,0K oct 23 17:55 0iZUayL1RQ0.json\n",
      "-rw-rw-r-- 1 aztleclan aztleclan 3,1K oct 23 17:55 0X7I-vr2oaM.json\n",
      "-rw-rw-r-- 1 aztleclan aztleclan 3,1K oct 23 17:55 1WAbPmolGqY.json\n",
      "-rw-rw-r-- 1 aztleclan aztleclan 3,3K oct 23 17:55 2CxQTUGD-5E.json\n"
     ]
    }
   ],
   "source": [
    "!ls -lh '{PROCESSED_DATA_DIR}/documents' 2>/dev/null | grep json 2>/dev/null | head -5"
   ]
  },
  {
   "cell_type": "code",
   "execution_count": 119,
   "id": "f53b330a-5e47-4c90-b349-ebef8f10f56a",
   "metadata": {},
   "outputs": [
    {
     "name": "stdout",
     "output_type": "stream",
     "text": [
      "-rw-rw-r-- 1 aztleclan aztleclan 169K oct 26 23:21 ../data/test/ground_truth/ground-truth-retrieval.csv\n"
     ]
    }
   ],
   "source": [
    "!ls -lh \"{GROUND_TRUTH_PATH}\""
   ]
  },
  {
   "cell_type": "code",
   "execution_count": 120,
   "id": "a310cbc4-3859-4fbd-af83-10e9e743b9e4",
   "metadata": {},
   "outputs": [],
   "source": [
    "playlist_info = read_pickle(PLAYLIST_INFO_PATH)\n",
    "video_playlist_map = read_pickle(VIDEO_PLAYLIST_MAP_PATH)"
   ]
  },
  {
   "cell_type": "code",
   "execution_count": 121,
   "id": "09b1f262-5f71-4762-88c7-ec5a255be15e",
   "metadata": {},
   "outputs": [
    {
     "data": {
      "text/html": [
       "<div>\n",
       "<style scoped>\n",
       "    .dataframe tbody tr th:only-of-type {\n",
       "        vertical-align: middle;\n",
       "    }\n",
       "\n",
       "    .dataframe tbody tr th {\n",
       "        vertical-align: top;\n",
       "    }\n",
       "\n",
       "    .dataframe thead th {\n",
       "        text-align: right;\n",
       "    }\n",
       "</style>\n",
       "<table border=\"1\" class=\"dataframe\">\n",
       "  <thead>\n",
       "    <tr style=\"text-align: right;\">\n",
       "      <th></th>\n",
       "      <th>playlist_id</th>\n",
       "      <th>en_playlist_title</th>\n",
       "    </tr>\n",
       "  </thead>\n",
       "  <tbody>\n",
       "    <tr>\n",
       "      <th>0</th>\n",
       "      <td>PLoyFGpU_IasVb0QvKn2IgbPZ_gKNGzP7Z</td>\n",
       "      <td>Stews and spooning</td>\n",
       "    </tr>\n",
       "    <tr>\n",
       "      <th>1</th>\n",
       "      <td>PLoyFGpU_IasWzT5nS-qF-gI2K5eJURRsV</td>\n",
       "      <td>Paste</td>\n",
       "    </tr>\n",
       "    <tr>\n",
       "      <th>2</th>\n",
       "      <td>PLoyFGpU_IasX1xkQfxcAw3alSibGj3Mg_</td>\n",
       "      <td>Rices</td>\n",
       "    </tr>\n",
       "    <tr>\n",
       "      <th>3</th>\n",
       "      <td>PLoyFGpU_IasXD955aZhg9aZ9_UPtGIrE4</td>\n",
       "      <td>Meats and poultry</td>\n",
       "    </tr>\n",
       "    <tr>\n",
       "      <th>4</th>\n",
       "      <td>PLoyFGpU_IasUmRDsq3r_M9rqZcrtH4im5</td>\n",
       "      <td>Christmas recipes</td>\n",
       "    </tr>\n",
       "  </tbody>\n",
       "</table>\n",
       "</div>"
      ],
      "text/plain": [
       "                          playlist_id   en_playlist_title\n",
       "0  PLoyFGpU_IasVb0QvKn2IgbPZ_gKNGzP7Z  Stews and spooning\n",
       "1  PLoyFGpU_IasWzT5nS-qF-gI2K5eJURRsV               Paste\n",
       "2  PLoyFGpU_IasX1xkQfxcAw3alSibGj3Mg_               Rices\n",
       "3  PLoyFGpU_IasXD955aZhg9aZ9_UPtGIrE4   Meats and poultry\n",
       "4  PLoyFGpU_IasUmRDsq3r_M9rqZcrtH4im5   Christmas recipes"
      ]
     },
     "execution_count": 121,
     "metadata": {},
     "output_type": "execute_result"
    }
   ],
   "source": [
    "playlist_info_df = pd.DataFrame.from_dict(playlist_info)\n",
    "playlist_info_df[[\"playlist_id\", \"en_playlist_title\"]].head(5)"
   ]
  },
  {
   "cell_type": "code",
   "execution_count": 122,
   "id": "30dc43fd-cb19-4a05-8c66-f43fd678c4b7",
   "metadata": {},
   "outputs": [],
   "source": [
    "df_ground_truth = pd.read_csv(GROUND_TRUTH_PATH)"
   ]
  },
  {
   "cell_type": "code",
   "execution_count": 123,
   "id": "c64e7ecf-236d-497b-9ec4-b56a0bdab24c",
   "metadata": {},
   "outputs": [
    {
     "data": {
      "text/html": [
       "<div>\n",
       "<style scoped>\n",
       "    .dataframe tbody tr th:only-of-type {\n",
       "        vertical-align: middle;\n",
       "    }\n",
       "\n",
       "    .dataframe tbody tr th {\n",
       "        vertical-align: top;\n",
       "    }\n",
       "\n",
       "    .dataframe thead th {\n",
       "        text-align: right;\n",
       "    }\n",
       "</style>\n",
       "<table border=\"1\" class=\"dataframe\">\n",
       "  <thead>\n",
       "    <tr style=\"text-align: right;\">\n",
       "      <th></th>\n",
       "      <th>id</th>\n",
       "      <th>doc_id</th>\n",
       "      <th>chunk_number</th>\n",
       "      <th>number</th>\n",
       "      <th>question</th>\n",
       "    </tr>\n",
       "  </thead>\n",
       "  <tbody>\n",
       "    <tr>\n",
       "      <th>0</th>\n",
       "      <td>erjXeb0Hscw@000</td>\n",
       "      <td>erjXeb0Hscw</td>\n",
       "      <td>0</td>\n",
       "      <td>1</td>\n",
       "      <td>How do I achieve crispy and golden bacon for m...</td>\n",
       "    </tr>\n",
       "    <tr>\n",
       "      <th>1</th>\n",
       "      <td>erjXeb0Hscw@000</td>\n",
       "      <td>erjXeb0Hscw</td>\n",
       "      <td>0</td>\n",
       "      <td>2</td>\n",
       "      <td>What is the recommended size of cheese cubes f...</td>\n",
       "    </tr>\n",
       "    <tr>\n",
       "      <th>2</th>\n",
       "      <td>erjXeb0Hscw@000</td>\n",
       "      <td>erjXeb0Hscw</td>\n",
       "      <td>0</td>\n",
       "      <td>3</td>\n",
       "      <td>Can I cook the spaghetti longer than eight min...</td>\n",
       "    </tr>\n",
       "    <tr>\n",
       "      <th>3</th>\n",
       "      <td>erjXeb0Hscw@000</td>\n",
       "      <td>erjXeb0Hscw</td>\n",
       "      <td>0</td>\n",
       "      <td>4</td>\n",
       "      <td>How do I enhance the creaminess of the cheese ...</td>\n",
       "    </tr>\n",
       "    <tr>\n",
       "      <th>4</th>\n",
       "      <td>erjXeb0Hscw@000</td>\n",
       "      <td>erjXeb0Hscw</td>\n",
       "      <td>0</td>\n",
       "      <td>5</td>\n",
       "      <td>Is my Creamy Spaghetti with Cheese and Bacon c...</td>\n",
       "    </tr>\n",
       "  </tbody>\n",
       "</table>\n",
       "</div>"
      ],
      "text/plain": [
       "                id       doc_id  chunk_number  number  \\\n",
       "0  erjXeb0Hscw@000  erjXeb0Hscw             0       1   \n",
       "1  erjXeb0Hscw@000  erjXeb0Hscw             0       2   \n",
       "2  erjXeb0Hscw@000  erjXeb0Hscw             0       3   \n",
       "3  erjXeb0Hscw@000  erjXeb0Hscw             0       4   \n",
       "4  erjXeb0Hscw@000  erjXeb0Hscw             0       5   \n",
       "\n",
       "                                            question  \n",
       "0  How do I achieve crispy and golden bacon for m...  \n",
       "1  What is the recommended size of cheese cubes f...  \n",
       "2  Can I cook the spaghetti longer than eight min...  \n",
       "3  How do I enhance the creaminess of the cheese ...  \n",
       "4  Is my Creamy Spaghetti with Cheese and Bacon c...  "
      ]
     },
     "execution_count": 123,
     "metadata": {},
     "output_type": "execute_result"
    }
   ],
   "source": [
    "df_ground_truth.head(5)"
   ]
  },
  {
   "cell_type": "markdown",
   "id": "885e4084-cb88-4123-892e-81d8a093da17",
   "metadata": {},
   "source": [
    "## Divide Training and Test"
   ]
  },
  {
   "cell_type": "code",
   "execution_count": 124,
   "id": "a51186e4-a22c-465e-8a15-f79928dd23dc",
   "metadata": {},
   "outputs": [],
   "source": [
    "doc_ids = df_ground_truth['doc_id'].to_numpy()\n",
    "df_ground_truth_train, df_ground_truth_val = train_test_split(\n",
    "    df_ground_truth, \n",
    "    test_size=0.2, \n",
    "    random_state=42, \n",
    "    shuffle=True, \n",
    "    stratify=doc_ids)"
   ]
  },
  {
   "cell_type": "code",
   "execution_count": 125,
   "id": "5bad76ef-dad7-4779-909e-8978b749ee81",
   "metadata": {},
   "outputs": [
    {
     "name": "stdout",
     "output_type": "stream",
     "text": [
      "Dataset: 1160\n",
      "Dataset: 928(80.0%)\n",
      "Dataset: 232(20.0%)\n"
     ]
    }
   ],
   "source": [
    "print(f\"Dataset: {len(df_ground_truth)}\")\n",
    "print(f\"Dataset: {len(df_ground_truth_train)}({100*len(df_ground_truth_train)/len(df_ground_truth)}%)\")\n",
    "print(f\"Dataset: {len(df_ground_truth_val)}({100*len(df_ground_truth_val)/len(df_ground_truth)}%)\")"
   ]
  },
  {
   "cell_type": "markdown",
   "id": "729f8215-074e-45ea-9316-cc88805f313e",
   "metadata": {},
   "source": [
    "# Text Search"
   ]
  },
  {
   "cell_type": "markdown",
   "id": "7284a6d1-7be8-45d6-8ef4-f4409334add5",
   "metadata": {},
   "source": [
    "## Test Query"
   ]
  },
  {
   "cell_type": "code",
   "execution_count": 126,
   "id": "74f6e806-20e7-4feb-8983-e16d35947764",
   "metadata": {},
   "outputs": [
    {
     "name": "stdout",
     "output_type": "stream",
     "text": [
      "Doc_id: PSd2SN2rx6k@000, Query : How do I properly prepare the shrimp heads for frying in the Noodles with Gambones recipe?\n"
     ]
    }
   ],
   "source": [
    "query_test = df_ground_truth.iloc[10].question\n",
    "doc_id = df_ground_truth.iloc[10].id\n",
    "print(f\"Doc_id: {doc_id}, Query : {query_test}\")"
   ]
  },
  {
   "cell_type": "code",
   "execution_count": 127,
   "id": "3b7a1f6e-0e11-48f7-9cd0-aef7da79c514",
   "metadata": {},
   "outputs": [],
   "source": [
    "res_es_bm25 = es_bm25_query(\n",
    "    es_client=ES_CLIENT,\n",
    "    index_name=INDEX_NAME,\n",
    "    query=query_test,\n",
    ")"
   ]
  },
  {
   "cell_type": "code",
   "execution_count": 128,
   "id": "a1f05c97-0494-4f01-be5e-a5cb1722afeb",
   "metadata": {},
   "outputs": [
    {
     "name": "stdout",
     "output_type": "stream",
     "text": [
      "Query : How do I properly prepare the shrimp heads for frying in the Noodles with Gambones recipe?\n",
      "Doc_id: PSd2SN2rx6k@000\n",
      "Results: 5\n",
      "====================================================================================================\n",
      "doc_id: PSd2SN2rx6k\n",
      "title : Noodles with Gambones\n",
      "text  : heat oil in a pan and add the shrimp heads. fry them until they release their juices. strain the oil into a pot for the stew. in the same pot, add shrimp heads, fish bones, a halved tomato, water, onion, and noras. cook for 30 to 40 minutes. after 40 minutes, strain the broth and keep it warm. chop the red and green bell peppers, and set aside. remove the skin from the tomato and dice it. finely chop the onion and set it aside. in a mortar, mash three garlic cloves with parsley until it forms a paste. add red wine and saffron to the garlic mixture and reserve it. cut the gambones into two or three pieces and set them aside. in the pot with the reserved oil, add the chopped bell peppers and onion, cooking them over medium heat with a pinch of salt. once softened, add the diced tomato, salt, and a bit of sugar. cook until well mixed, then add the garlic, parsley, saffron, and wine mixture, and cook for a couple of minutes to let the alcohol evaporate. add the noodles to the pot and saute\n",
      "====================================================================================================\n",
      "doc_id: ebaB3psaU2I\n",
      "title : Four Delicious Spaghetti Recipes\n",
      "text  : match the meat. in a pan with olive oil, cook the onion, carrot, and celery with salt for 10 to 15 minutes until softened. add the reserved tomatoes and tomato paste, stirring for a few minutes before adding ground beef, salt, and pepper. cook on low heat for 30 to 45 minutes, ensuring the mixture remains juicy. incorporate white wine and water into the sauce, ensuring it stays moist. cook spaghetti in salted water, then mix with the bolognese sauce, adding cooking water if needed. plate the spaghetti bolognese and enjoy. for the garlic shrimp, heat olive oil and fry chopped garlic with a chili pepper until golden. add the gambones with salt and saute for 2 minutes, flambe with a splash of rum, then set aside. in another pot, heat olive oil and fry shrimp heads with tomato, onion, and bell peppers, crushing the heads for flavor. after a few minutes, add tomato paste and rum, cooking briefly to evaporate the alcohol. simmer the stock for half an hour, stirring occasionally, then strain \n",
      "====================================================================================================\n",
      "doc_id: EHZ5XMl8bM4\n",
      "title : Spaghetti Bolognese: The Original Recipe\n",
      "text  : peel the onion, remove the ends, and the outer layer. dice the onion into very small pieces. prepare the carrot by cutting it into strips and then into small pieces. optionally, you can also grate the carrot. clean the celery and cut it into long strips, then dice it into small cubes. peel the tomatoes, remove the ends and skin, then cut them into halves, strips, and small cubes. reserve the tomatoes with the chopped vegetables. heat a good amount of extra virgin olive oil in a pan and add the onion, carrot, and celery. season with a pinch of salt and cook over medium heat for 10 to 15 minutes until the vegetables are soft and slightly crunchy. once the vegetables are cooked, add the reserved tomatoes and a few tablespoons of tomato paste. stir for 2 to 3 minutes. if you prefer a smoother sauce, you can blend the mixture before adding the meat. add the ground beef to the pan along with some salt and freshly ground black pepper. keep in mind that the meat needs to be properly cooked bef\n",
      "====================================================================================================\n",
      "doc_id: EHZ5XMl8bM4\n",
      "title : Spaghetti Bolognese: The Original Recipe\n",
      "text  : minutes. when cooked, add the spaghetti directly to the bolognese sauce without draining. the cooking water will add moisture to the dish. stir to combine the spaghetti with the sauce thoroughly. if it seems dry, you can add a bit more cooking water and mix well. serve the spaghetti bolognese on a nice plate and enjoy this delicious recipe.\n",
      "====================================================================================================\n",
      "doc_id: Ix2ZEu_1BK4\n",
      "title : Spaghetti Aglio e Olio with Gambones\n",
      "text  : heat a generous amount of olive oil in a skillet over high heat. add the minced garlic and fry until golden. add a crumbled cayenne pepper for heat and fry the garlic until it reaches a golden color. add the gambones and a pinch of salt, frying them for two minutes. pour in a splash of ron and flambe carefully, or let the alcohol evaporate if you prefer. once the alcohol has evaporated, stir gently for a maximum of two minutes to avoid overcooking the gambones. transfer the gambones and their juices into a large bowl and set aside. in a pot, heat a bit of olive oil and add the heads and shells of the gambones, crushing them to release their flavor. add chopped tomato, onion, and bell peppers to the pot along with a nora pepper and some salt. fry everything until it is fragrant. after two minutes, add a few tablespoons of tomato paste and stir for 30 seconds. pour in some ron and let it cook for a minute to evaporate the alcohol. add water to create a broth, bringing the heat to maximum\n",
      "====================================================================================================\n"
     ]
    }
   ],
   "source": [
    "print(f\"Query : {query_test}\")\n",
    "print(f\"Doc_id: {doc_id}\")\n",
    "print(f\"Results: {len(res_es_bm25)}\")\n",
    "print(\"=\"*100)\n",
    "for r in res_es_bm25:\n",
    "    print(f\"doc_id: {r['doc_id']}\")\n",
    "    print(f\"title : {r['title']}\")\n",
    "    print(f\"text  : {r['text'][:1000]}\")\n",
    "    print(\"=\"*100)"
   ]
  },
  {
   "cell_type": "code",
   "execution_count": 31,
   "id": "c3418578-5c4a-449c-8bfb-210a9377dc4a",
   "metadata": {},
   "outputs": [
    {
     "name": "stdout",
     "output_type": "stream",
     "text": [
      "Query : What steps should I take to prepare the 'Shrimp Cream Soup' recipe, specifically for the step where I blend everything together until smooth?\n",
      "Doc_id: uB7o1ZfSW9Q@001\n",
      "Results: 5\n",
      "====================================================================================================\n",
      "doc_id: uB7o1ZfSW9Q\n",
      "title : Shrimp Cream Soup\n",
      "text  : to medium - high for about 22 minutes until the cream reaches a delicious color. turn off the heat and blend everything together until smooth. for added richness, mix in a bit of heavy cream and blend again. taste and adjust the salt if necessary. serve hot, garnished with the reserved shrimp, and enjoy!\n",
      "====================================================================================================\n",
      "doc_id: uB7o1ZfSW9Q\n",
      "title : Shrimp Cream Soup\n",
      "text  : start by peeling the shrimp, setting aside some for decoration. heat a good amount of extra virgin olive oil in a pan and fry the shrimp reserved for decoration with a pinch of salt until cooked to your liking. remove and set aside. in the same pan, fry the remaining shrimp for the soup base with some salt to infuse the oil with flavor. lower the heat and add the leek, onion, and red bell pepper. chop the carrots finely and add them as well, along with more salt. cook the vegetables over medium - high heat for about five to six minutes. add a couple of minced garlic cloves and mix well. in a separate deep pot, prepare a basic broth by heating olive oil and adding shrimp shells. season with salt and fry for 5 to 10 minutes, crushing the shells to release their juices. after the vegetables have cooked for six minutes, stir in four tablespoons of pimiento choricero or homemade tomato sauce. cook for an additional couple of minutes. once the shrimp are well fried, add a splash of brandy, r\n",
      "====================================================================================================\n",
      "doc_id: EHZ5XMl8bM4\n",
      "title : Spaghetti Bolognese: The Original Recipe\n",
      "text  : peel the onion, remove the ends, and the outer layer. dice the onion into very small pieces. prepare the carrot by cutting it into strips and then into small pieces. optionally, you can also grate the carrot. clean the celery and cut it into long strips, then dice it into small cubes. peel the tomatoes, remove the ends and skin, then cut them into halves, strips, and small cubes. reserve the tomatoes with the chopped vegetables. heat a good amount of extra virgin olive oil in a pan and add the onion, carrot, and celery. season with a pinch of salt and cook over medium heat for 10 to 15 minutes until the vegetables are soft and slightly crunchy. once the vegetables are cooked, add the reserved tomatoes and a few tablespoons of tomato paste. stir for 2 to 3 minutes. if you prefer a smoother sauce, you can blend the mixture before adding the meat. add the ground beef to the pan along with some salt and freshly ground black pepper. keep in mind that the meat needs to be properly cooked bef\n",
      "====================================================================================================\n",
      "doc_id: EHZ5XMl8bM4\n",
      "title : Spaghetti Bolognese: The Original Recipe\n",
      "text  : minutes. when cooked, add the spaghetti directly to the bolognese sauce without draining. the cooking water will add moisture to the dish. stir to combine the spaghetti with the sauce thoroughly. if it seems dry, you can add a bit more cooking water and mix well. serve the spaghetti bolognese on a nice plate and enjoy this delicious recipe.\n",
      "====================================================================================================\n",
      "doc_id: MzkW62FXmVo\n",
      "title : Blue Cheese Cheesecake\n",
      "text  : grease a 26 cm diameter mold with butter. roll out the shortcrust pastry to a thickness of 2 - 3 mm. place the pastry into the mold using parchment paper for ease. trim the edges of the pastry to about 3. 5 - 4 cm in height. ensure the mold is greased all the way up to facilitate easy removal later. place parchment paper over the pastry and fill it with beans or chickpeas to weigh it down. bake in the oven at 180 degrees celsius for about 15 minutes. in a bowl, mix together the medium eggs, sugar, and heavy cream. add the cream cheese to the mixture and set aside. in a saucepan over medium - low heat, combine the heavy cream and blue cheese, stirring until the cheese is completely melted. allow the cheese mixture to reduce for about 30 seconds for enhanced flavor. incorporate the reserved cream cheese mixture into the melted cheese and blend until smooth. remove the pastry from the oven and carefully take out the parchment with beans. pour the cheese mixture over the pastry, making sur\n",
      "====================================================================================================\n"
     ]
    }
   ],
   "source": [
    "print(f\"Query : {query_test}\")\n",
    "print(f\"Doc_id: {doc_id}\")\n",
    "print(f\"Results: {len(res_es_bm25)}\")\n",
    "print(\"=\"*100)\n",
    "for r in res_es_bm25:\n",
    "    print(f\"doc_id: {r['doc_id']}\")\n",
    "    print(f\"title : {r['title']}\")\n",
    "    print(f\"text  : {r['text'][:1000]}\")\n",
    "    print(\"=\"*100)"
   ]
  },
  {
   "cell_type": "markdown",
   "id": "80dabda7-8e16-45c2-915c-636b21cdd2bc",
   "metadata": {},
   "source": [
    "## Evaluate"
   ]
  },
  {
   "cell_type": "code",
   "execution_count": 129,
   "id": "09f229cb-0037-42a4-b3a6-9032dc25695e",
   "metadata": {},
   "outputs": [],
   "source": [
    "def question_text_bm25(q):\n",
    "    question = q['question']\n",
    "    return es_bm25_query(\n",
    "        ES_CLIENT, \n",
    "        INDEX_NAME, \n",
    "        question\n",
    "    )"
   ]
  },
  {
   "cell_type": "code",
   "execution_count": 130,
   "id": "00f3e168-2a95-46a3-879c-c19d4cea83e3",
   "metadata": {},
   "outputs": [
    {
     "name": "stdout",
     "output_type": "stream",
     "text": [
      "Dataset size: 1160\n",
      "CPU times: user 927 ms, sys: 47.4 ms, total: 974 ms\n",
      "Wall time: 6.79 s\n"
     ]
    }
   ],
   "source": [
    "%%time\n",
    "ground_truth = df_ground_truth.to_dict(orient='records')\n",
    "print(f\"Dataset size: {len(ground_truth)}\")\n",
    "eval_data_es_bm25 =  evaluate(\n",
    "    ground_truth, \n",
    "    question_text_bm25)"
   ]
  },
  {
   "cell_type": "code",
   "execution_count": 131,
   "id": "3c422544-7a1b-4589-983f-50e1bd394e5b",
   "metadata": {},
   "outputs": [
    {
     "name": "stdout",
     "output_type": "stream",
     "text": [
      "[FULL-DATA] Text : {'hit_rate': 0.9146551724137931, 'mrr': 0.8774425287356341}\n"
     ]
    }
   ],
   "source": [
    "print(f\"[FULL-DATA] Text : {eval_data_es_bm25}\")"
   ]
  },
  {
   "cell_type": "code",
   "execution_count": 97,
   "id": "8066225e-e845-4693-9099-398c83a10e0f",
   "metadata": {},
   "outputs": [
    {
     "name": "stdout",
     "output_type": "stream",
     "text": [
      "[FULL-DATA] Text : {'hit_rate': 0.9146551724137931, 'mrr': 0.8774425287356338}\n"
     ]
    }
   ],
   "source": [
    "print(f\"[FULL-DATA] Text : {eval_data_es_bm25}\")"
   ]
  },
  {
   "cell_type": "markdown",
   "id": "aea3e327-4a90-4c3e-abde-6a37eb6abe21",
   "metadata": {},
   "source": [
    "Train Evaluation"
   ]
  },
  {
   "cell_type": "code",
   "execution_count": 98,
   "id": "099d896b-fe57-4331-bfa7-5fa2aef6ebbb",
   "metadata": {},
   "outputs": [
    {
     "name": "stdout",
     "output_type": "stream",
     "text": [
      "Dataset size: 928\n",
      "CPU times: user 761 ms, sys: 46.6 ms, total: 808 ms\n",
      "Wall time: 5.77 s\n"
     ]
    }
   ],
   "source": [
    "%%time\n",
    "ground_truth_train = df_ground_truth_train.to_dict(orient='records')\n",
    "print(f\"Dataset size: {len(ground_truth_train)}\")\n",
    "eval_train_es_bm25 =  evaluate(\n",
    "    ground_truth_train, \n",
    "    question_text_bm25)"
   ]
  },
  {
   "cell_type": "code",
   "execution_count": 99,
   "id": "aae79ad9-6fdc-4da5-8449-2a66c5a294a2",
   "metadata": {},
   "outputs": [
    {
     "name": "stdout",
     "output_type": "stream",
     "text": [
      "[EVAL-TRAIN] Text : {'hit_rate': 0.9137931034482759, 'mrr': 0.8790050287356329}\n"
     ]
    }
   ],
   "source": [
    "print(f\"[EVAL-TRAIN] Text : {eval_train_es_bm25}\")"
   ]
  },
  {
   "cell_type": "markdown",
   "id": "fac98f43-275f-40ae-9f81-15bb6f9129b4",
   "metadata": {},
   "source": [
    "Test Evaluation"
   ]
  },
  {
   "cell_type": "code",
   "execution_count": 100,
   "id": "3f233210-bc3c-409b-b3e7-0d4952d10308",
   "metadata": {},
   "outputs": [
    {
     "name": "stdout",
     "output_type": "stream",
     "text": [
      "Dataset size: 232\n",
      "CPU times: user 174 ms, sys: 27.8 ms, total: 202 ms\n",
      "Wall time: 1.48 s\n"
     ]
    }
   ],
   "source": [
    "%%time\n",
    "ground_truth_val = df_ground_truth_val.to_dict(orient='records')\n",
    "print(f\"Dataset size: {len(ground_truth_val)}\")\n",
    "eval_valid_es_bm25 =  evaluate(\n",
    "    ground_truth_val, \n",
    "    question_text_bm25)"
   ]
  },
  {
   "cell_type": "code",
   "execution_count": 101,
   "id": "93a29e87-d9f6-4bc2-9281-3020cb0028ed",
   "metadata": {},
   "outputs": [
    {
     "name": "stdout",
     "output_type": "stream",
     "text": [
      "[EVAL-TRAIN] Text : {'hit_rate': 0.9137931034482759, 'mrr': 0.8790050287356329}\n",
      "[EVAL-VALID] Text : {'hit_rate': 0.9181034482758621, 'mrr': 0.8711925287356324}\n"
     ]
    }
   ],
   "source": [
    "print(f\"[EVAL-TRAIN] Text : {eval_train_es_bm25}\")\n",
    "print(f\"[EVAL-VALID] Text : {eval_valid_es_bm25}\")"
   ]
  },
  {
   "cell_type": "markdown",
   "id": "fcebc845-0f87-4620-b0c4-605a99a5e7a5",
   "metadata": {},
   "source": [
    "## Optimize"
   ]
  },
  {
   "cell_type": "markdown",
   "id": "72337d0f-2c19-4fa7-822b-f2820f444e1a",
   "metadata": {},
   "source": [
    "Search optimization with dataset train"
   ]
  },
  {
   "cell_type": "code",
   "execution_count": 102,
   "id": "9f5d54ad-5880-48ac-80eb-fae9010a33d4",
   "metadata": {},
   "outputs": [
    {
     "name": "stdout",
     "output_type": "stream",
     "text": [
      "100%|████████████████████████████████████████████████████████| 50/50 [05:03<00:00,  6.08s/trial, best loss: 0.10520833333333257]\n",
      "Mejores parámetros encontrados:\n",
      "{'ingredients': 2.591815470947524, 'meals': 0.8854500618094214, 'summary': 4.060097538845653, 'text': 3.7200158260107226, 'tips': 4.469334105172512, 'title': 2.7630515885634166, 'vector_boost': 0.47080059231565463}\n",
      "Boosts optimizados:\n",
      "{'meals': 0.8854500618094214, 'title': 2.7630515885634166, 'ingredients': 2.591815470947524, 'summary': 4.060097538845653, 'text': 3.7200158260107226, 'tips': 4.469334105172512}\n",
      "El mejor valor de MRR es: 0.8947916666666674\n",
      "CPU times: user 39 s, sys: 1.94 s, total: 41 s\n",
      "Wall time: 5min 3s\n"
     ]
    }
   ],
   "source": [
    "%%time\n",
    "best_es_bm25_boosts, best_es_bm25_mrr = run_hyperopt(\n",
    "    df=df_ground_truth_train, \n",
    "    es=ES_CLIENT, \n",
    "    index=INDEX_NAME,\n",
    "    es_with_boost=es_bm25_query,\n",
    "    max_evals=50)"
   ]
  },
  {
   "cell_type": "code",
   "execution_count": 103,
   "id": "d626de9e-7c95-46fe-97b7-935ff3f856b0",
   "metadata": {},
   "outputs": [
    {
     "name": "stdout",
     "output_type": "stream",
     "text": [
      "[OPT] Text mmr  : 0.8947916666666674\n",
      "[OPT] Text Boost: {'meals': 0.8854500618094214, 'title': 2.7630515885634166, 'ingredients': 2.591815470947524, 'summary': 4.060097538845653, 'text': 3.7200158260107226, 'tips': 4.469334105172512}\n"
     ]
    }
   ],
   "source": [
    "print(f\"[OPT] Text mmr  : {best_es_bm25_mrr}\")\n",
    "print(f\"[OPT] Text Boost: {best_es_bm25_boosts}\")"
   ]
  },
  {
   "cell_type": "markdown",
   "id": "cb506659-fa87-4918-8bfa-b2d2cb12b013",
   "metadata": {},
   "source": [
    "Train Evaluation with boosting"
   ]
  },
  {
   "cell_type": "code",
   "execution_count": 104,
   "id": "7c61b1b9-c893-4ba4-a13d-e49a5f83cd14",
   "metadata": {},
   "outputs": [],
   "source": [
    "def question_text_bm25_boosts(q):\n",
    "    question = q['question']\n",
    "    return es_bm25_query(\n",
    "        ES_CLIENT, \n",
    "        INDEX_NAME, \n",
    "        question, \n",
    "        best_es_bm25_boosts\n",
    "    )"
   ]
  },
  {
   "cell_type": "code",
   "execution_count": 105,
   "id": "3c43ecc0-5096-4409-aa03-ee46422637d8",
   "metadata": {},
   "outputs": [
    {
     "name": "stdout",
     "output_type": "stream",
     "text": [
      "Dataset size: 232\n",
      "CPU times: user 694 ms, sys: 38.3 ms, total: 733 ms\n",
      "Wall time: 5.39 s\n"
     ]
    }
   ],
   "source": [
    "%%time\n",
    "ground_truth_train = df_ground_truth_train.to_dict(orient='records')\n",
    "print(f\"Dataset size: {len(ground_truth_val)}\")\n",
    "eval_train_es_bm25_boosts = evaluate(\n",
    "        ground_truth_train, \n",
    "        question_text_bm25_boosts)"
   ]
  },
  {
   "cell_type": "code",
   "execution_count": 106,
   "id": "23a986b3-42ea-4948-8b18-f77c71f94ae7",
   "metadata": {},
   "outputs": [
    {
     "name": "stdout",
     "output_type": "stream",
     "text": [
      "[EVAL-TRAIN] Text      : {'hit_rate': 0.9137931034482759, 'mrr': 0.8790050287356329}\n",
      "[EVAL-TRAIN] Text Boost: {'hit_rate': 0.9094827586206896, 'mrr': 0.8947916666666674}\n"
     ]
    }
   ],
   "source": [
    "print(f\"[EVAL-TRAIN] Text      : {eval_train_es_bm25}\")\n",
    "print(f\"[EVAL-TRAIN] Text Boost: {eval_train_es_bm25_boosts}\")"
   ]
  },
  {
   "cell_type": "markdown",
   "id": "22405817-61bb-4be0-87f5-34763e3d7c75",
   "metadata": {},
   "source": [
    "Test Evaluation with boosting"
   ]
  },
  {
   "cell_type": "code",
   "execution_count": 107,
   "id": "738d1b28-b39c-4fb6-9ac4-64bc6b0284a2",
   "metadata": {},
   "outputs": [
    {
     "name": "stdout",
     "output_type": "stream",
     "text": [
      "Dataset size: 232\n",
      "CPU times: user 203 ms, sys: 8.15 ms, total: 211 ms\n",
      "Wall time: 1.42 s\n"
     ]
    }
   ],
   "source": [
    "%%time\n",
    "ground_truth_val = df_ground_truth_val.to_dict(orient='records')\n",
    "print(f\"Dataset size: {len(ground_truth_val)}\")\n",
    "eval_valid_es_bm25_boosts = evaluate(\n",
    "        ground_truth_val, \n",
    "        question_text_bm25_boosts)"
   ]
  },
  {
   "cell_type": "code",
   "execution_count": 108,
   "id": "4ff85ed3-305b-43e6-891b-c1605e1a8e52",
   "metadata": {},
   "outputs": [
    {
     "name": "stdout",
     "output_type": "stream",
     "text": [
      "[EVAL-VALID] Text      : {'hit_rate': 0.9181034482758621, 'mrr': 0.8711925287356324}\n",
      "[EVAL-VALID] Text Boost: {'hit_rate': 0.9267241379310345, 'mrr': 0.8870689655172416}\n"
     ]
    }
   ],
   "source": [
    "print(f\"[EVAL-VALID] Text      : {eval_valid_es_bm25}\")\n",
    "print(f\"[EVAL-VALID] Text Boost: {eval_valid_es_bm25_boosts}\")"
   ]
  },
  {
   "cell_type": "markdown",
   "id": "0a433bf3-9521-4e87-a500-192654866975",
   "metadata": {},
   "source": [
    "## Show Results"
   ]
  },
  {
   "cell_type": "code",
   "execution_count": 109,
   "id": "b6d15145-2e88-4ef1-851d-5ecb154232f3",
   "metadata": {},
   "outputs": [
    {
     "name": "stdout",
     "output_type": "stream",
     "text": [
      "[EVAL-TRAIN] Text      : {'hit_rate': 0.9137931034482759, 'mrr': 0.8790050287356329}\n",
      "[EVAL-TRAIN] Text Boost: {'hit_rate': 0.9094827586206896, 'mrr': 0.8947916666666674}\n",
      "[EVAL-VALID] Text      : {'hit_rate': 0.9181034482758621, 'mrr': 0.8711925287356324}\n",
      "[EVAL-VALID] Text Boost: {'hit_rate': 0.9267241379310345, 'mrr': 0.8870689655172416}\n"
     ]
    }
   ],
   "source": [
    "print(f\"[EVAL-TRAIN] Text      : {eval_train_es_bm25}\")\n",
    "print(f\"[EVAL-TRAIN] Text Boost: {eval_train_es_bm25_boosts}\")\n",
    "print(f\"[EVAL-VALID] Text      : {eval_valid_es_bm25}\")\n",
    "print(f\"[EVAL-VALID] Text Boost: {eval_valid_es_bm25_boosts}\")"
   ]
  },
  {
   "cell_type": "code",
   "execution_count": 172,
   "id": "ab858b8a-64e4-40f4-9c2d-31e246ae15ad",
   "metadata": {},
   "outputs": [
    {
     "name": "stdout",
     "output_type": "stream",
     "text": [
      "[EVAL-TRAIN] Text      : {'hit_rate': 0.8351293103448276, 'mrr': 0.7390804597701152}\n",
      "[EVAL-TRAIN] Text Boost: {'hit_rate': 0.8599137931034483, 'mrr': 0.7617636494252882}\n",
      "[EVAL-VALID] Text      : {'hit_rate': 0.8017241379310345, 'mrr': 0.714080459770115}\n",
      "[EVAL-VALID] Text Boost: {'hit_rate': 0.8103448275862069, 'mrr': 0.727801724137931}\n"
     ]
    }
   ],
   "source": [
    "print(f\"[EVAL-TRAIN] Text      : {eval_train_es_bm25}\")\n",
    "print(f\"[EVAL-TRAIN] Text Boost: {eval_train_es_bm25_boosts}\")\n",
    "print(f\"[EVAL-VALID] Text      : {eval_valid_es_bm25}\")\n",
    "print(f\"[EVAL-VALID] Text Boost: {eval_valid_es_bm25_boosts}\")"
   ]
  },
  {
   "cell_type": "code",
   "execution_count": 43,
   "id": "e875fb84-2d65-4459-b1d4-73548e1fe1bb",
   "metadata": {},
   "outputs": [
    {
     "name": "stdout",
     "output_type": "stream",
     "text": [
      "[EVAL-TRAIN] Text      : {'hit_rate': 0.8351293103448276, 'mrr': 0.7390804597701152}\n",
      "[EVAL-TRAIN] Text Boost: {'hit_rate': 0.8588362068965517, 'mrr': 0.7581896551724147}\n",
      "[EVAL-VALID] Text      : {'hit_rate': 0.8017241379310345, 'mrr': 0.714080459770115}\n",
      "[EVAL-VALID] Text Boost: {'hit_rate': 0.8103448275862069, 'mrr': 0.7213362068965516}\n"
     ]
    }
   ],
   "source": [
    "print(f\"[EVAL-TRAIN] Text      : {eval_train_es_bm25}\")\n",
    "print(f\"[EVAL-TRAIN] Text Boost: {eval_train_es_bm25_boosts}\")\n",
    "print(f\"[EVAL-VALID] Text      : {eval_valid_es_bm25}\")\n",
    "print(f\"[EVAL-VALID] Text Boost: {eval_valid_es_bm25_boosts}\")"
   ]
  },
  {
   "cell_type": "markdown",
   "id": "54bcafcc-564f-4abe-bfe7-383ea6f6127e",
   "metadata": {},
   "source": [
    "## Save results"
   ]
  },
  {
   "cell_type": "code",
   "execution_count": 94,
   "id": "80a0e618-086a-4ea2-827c-7b559106dba1",
   "metadata": {},
   "outputs": [
    {
     "data": {
      "text/plain": [
       "{'method': 'es_bm25',\n",
       " 'best_boosts': {'meals': 3.3780065729545834,\n",
       "  'title': 2.350519748557916,\n",
       "  'ingredients': 1.8480562377707013,\n",
       "  'summary': 4.142904195381872,\n",
       "  'text': 3.8827414870597465,\n",
       "  'tips': 3.2750400070515573},\n",
       " 'best_mrr': 0.8933369252873572,\n",
       " 'base_train_hit_rate': 0.9137931034482759,\n",
       " 'base_train_mrr': 0.8790050287356329,\n",
       " 'base_valid_hit_rate': 0.9181034482758621,\n",
       " 'base_valid_mrr': 0.8711925287356324,\n",
       " 'boost_train_hit_rate': 0.9137931034482759,\n",
       " 'boost_train_mrr': 0.8933369252873572,\n",
       " 'boost_valid_hit_rate': 0.9310344827586207,\n",
       " 'boost_valid_mrr': 0.8790229885057472}"
      ]
     },
     "execution_count": 94,
     "metadata": {},
     "output_type": "execute_result"
    }
   ],
   "source": [
    "results_opt_es_bm25 = {\n",
    "    'method': 'es_bm25',\n",
    "    'best_boosts': best_es_bm25_boosts,\n",
    "    'best_mrr'   : best_es_bm25_mrr,\n",
    "    # Base\n",
    "    'base_train_hit_rate': eval_train_es_bm25['hit_rate'],\n",
    "    'base_train_mrr'     : eval_train_es_bm25['mrr'],\n",
    "    'base_valid_hit_rate': eval_valid_es_bm25['hit_rate'],\n",
    "    'base_valid_mrr'     : eval_valid_es_bm25['mrr'],\n",
    "    # Boost\n",
    "    'boost_train_hit_rate' : eval_train_es_bm25_boosts['hit_rate'],\n",
    "    'boost_train_mrr'      : eval_train_es_bm25_boosts['mrr'],\n",
    "    'boost_valid_hit_rate' : eval_valid_es_bm25_boosts['hit_rate'],\n",
    "    'boost_valid_mrr'      : eval_valid_es_bm25_boosts['mrr'],\n",
    "}\n",
    "results_opt_es_bm25"
   ]
  },
  {
   "cell_type": "code",
   "execution_count": 110,
   "id": "d4922b52-238d-48e1-a03e-67ee9cacf188",
   "metadata": {},
   "outputs": [],
   "source": [
    "save_document(REST_OPT_ES_BM25_PATH, results_opt_es_bm25)"
   ]
  },
  {
   "cell_type": "code",
   "execution_count": 111,
   "id": "eac3753e-c475-48db-9b1c-d786774f61a8",
   "metadata": {},
   "outputs": [
    {
     "name": "stdout",
     "output_type": "stream",
     "text": [
      "total 12K\n",
      "-rw-rw-r-- 1 aztleclan aztleclan 676 oct 26 23:00 res-opt-es-bm25.json\n",
      "-rw-rw-r-- 1 aztleclan aztleclan 723 oct 26 21:54 res-opt-es-hybrid.json\n",
      "-rw-rw-r-- 1 aztleclan aztleclan 724 oct 26 22:20 res-opt-es-hybrid-rrf.json\n"
     ]
    }
   ],
   "source": [
    "!ls -lh \"{EVAL_RETRIEVER_DATA_DIR}\""
   ]
  },
  {
   "cell_type": "code",
   "execution_count": 112,
   "id": "3df690af-23c7-42ab-a5bc-e564c8c0fa0d",
   "metadata": {},
   "outputs": [
    {
     "data": {
      "text/plain": [
       "{'method': 'es_bm25',\n",
       " 'best_boosts': {'meals': 3.3780065729545834,\n",
       "  'title': 2.350519748557916,\n",
       "  'ingredients': 1.8480562377707013,\n",
       "  'summary': 4.142904195381872,\n",
       "  'text': 3.8827414870597465,\n",
       "  'tips': 3.2750400070515573},\n",
       " 'best_mrr': 0.8933369252873572,\n",
       " 'base_train_hit_rate': 0.9137931034482759,\n",
       " 'base_train_mrr': 0.8790050287356329,\n",
       " 'base_valid_hit_rate': 0.9181034482758621,\n",
       " 'base_valid_mrr': 0.8711925287356324,\n",
       " 'boost_train_hit_rate': 0.9137931034482759,\n",
       " 'boost_train_mrr': 0.8933369252873572,\n",
       " 'boost_valid_hit_rate': 0.9310344827586207,\n",
       " 'boost_valid_mrr': 0.8790229885057472}"
      ]
     },
     "execution_count": 112,
     "metadata": {},
     "output_type": "execute_result"
    }
   ],
   "source": [
    "results_opt_es_bm25 = read_document(REST_OPT_ES_BM25_PATH)\n",
    "results_opt_es_bm25"
   ]
  },
  {
   "cell_type": "code",
   "execution_count": 93,
   "id": "e1606221-07a5-4a10-8fc6-41550ee6c2e0",
   "metadata": {},
   "outputs": [],
   "source": [
    "best_es_bm25_boosts = results_opt_es_bm25['best_boosts']\n",
    "best_es_bm25_mrr = results_opt_es_bm25['best_mrr']\n",
    "eval_train_es_bm25_boosts = {    \n",
    "    'hit_rate': results_opt_es_bm25['boost_train_hit_rate'],\n",
    "    'mrr': results_opt_es_bm25['boost_train_mrr'],\n",
    "}\n",
    "eval_valid_es_bm25_boosts = {\n",
    "    'hit_rate': results_opt_es_bm25['boost_valid_hit_rate'], \n",
    "    'mrr': results_opt_es_bm25['boost_valid_mrr'],\n",
    "}"
   ]
  },
  {
   "cell_type": "markdown",
   "id": "b2023ec9-5ccb-4995-b0ed-f30affc7f6e6",
   "metadata": {},
   "source": [
    "# Search Hybrid\n",
    "\n",
    "https://www.elastic.co/search-labs/blog/elasticsearch-knn-and-num-candidates-strategies"
   ]
  },
  {
   "cell_type": "markdown",
   "id": "95c8b2d0-4136-419e-a215-c511790f7347",
   "metadata": {},
   "source": [
    "## Test Query"
   ]
  },
  {
   "cell_type": "code",
   "execution_count": 20,
   "id": "0f8101f9-0127-4de5-a4c6-51b76585a102",
   "metadata": {},
   "outputs": [
    {
     "name": "stdout",
     "output_type": "stream",
     "text": [
      "Doc_id: 0X7I-vr2oaM@000, Query : How do I prepare the Cold Canapés with Sliced Bread, considering it needs to be refrigerated for at least 4 hours or overnight?\n"
     ]
    }
   ],
   "source": [
    "query_test = df_ground_truth.iloc[50].question\n",
    "doc_id = df_ground_truth.iloc[50].id\n",
    "print(f\"Doc_id: {doc_id}, Query : {query_test}\")\n",
    "VECTOR_FIELD='text_vector'"
   ]
  },
  {
   "cell_type": "code",
   "execution_count": 21,
   "id": "50c805af-8aa4-415f-a9c7-e4da7755a5b3",
   "metadata": {},
   "outputs": [],
   "source": [
    "res_es_hybrid = es_hybrid_query(\n",
    "    es_client=ES_CLIENT,\n",
    "    index_name=INDEX_NAME,\n",
    "    query=query_test,\n",
    "    embeddings=EMBEDDINGS,\n",
    "    field=VECTOR_FIELD, \n",
    ")"
   ]
  },
  {
   "cell_type": "code",
   "execution_count": 22,
   "id": "9d9f4d75-d978-464a-aedf-9e5d86bc6715",
   "metadata": {},
   "outputs": [
    {
     "name": "stdout",
     "output_type": "stream",
     "text": [
      "Query : How do I prepare the Cold Canapés with Sliced Bread, considering it needs to be refrigerated for at least 4 hours or overnight?\n",
      "Doc_id: 0X7I-vr2oaM@000\n",
      "Results: 5\n",
      "====================================================================================================\n",
      "doc_id: 0X7I-vr2oaM\n",
      "title : Cold Canapés with Sliced Bread\n",
      "text  : start by spreading a generous layer of pate on one slice of bread, then add slices of serrano ham, ensuring they fit within the bread ' s edges. place a second slice of bread on top, align the edges, cover with plastic wrap, and refrigerate for at least 4 hours, preferably overnight. for the second canape, spread cream cheese on two slices of bread, layer with sweet ham and optional cheddar slices, then cover with another slice of bread and refrigerate for 4 hours or overnight. for the third canape, use three slices of bread and spread cream cheese on each. add smoked salmon between the layers, cover, wrap in plastic, and refrigerate for 4 to 5 hours or overnight. for the last canape, finely chop canned mussels and mix with 100 ml of cream cheese until smooth. spread this mixture on three slices of bread, stack them, cover with the unspread slice, wrap in plastic, and refrigerate for a minimum of 4 hours or overnight. after chilling, unwrap the canapes, cut them into pieces, and decora\n",
      "====================================================================================================\n",
      "doc_id: JbzsYJl77lw\n",
      "title : Cold Salmon and Shrimp Cake\n",
      "text  : boil the egg for 10 minutes, then remove and set aside. prepare a 20 cm diameter, 7 cm deep mold by lining it with cling film, leaving some excess over the edges. fit the bread slices into the mold, trimming as necessary, and spread mayonnaise over the bread. add a layer of finely sliced cheese, ensuring it ' s just one layer. next, add a layer of cooked ham, again keeping it to a single layer. place another layer of bread on top, adding more mayonnaise. slice the tomato and place the slices evenly over the bread without overlapping. add another layer of bread followed by more mayonnaise. in a bowl, mix chopped lettuce and grated carrot with a little mayonnaise, then set aside. slice the apple and layer the slices over the mayonnaise - covered bread. spread the lettuce and carrot mixture on top. finish with a final layer of bread, shaping it to fit the mold, and cover with excess cling film. place a weight on top and refrigerate for at least 6 hours, preferably overnight. once set, car\n",
      "====================================================================================================\n",
      "doc_id: TSLTGxGqnqY\n",
      "title : Cold Ham and Cheese Cake with Bechamel Sauce\n",
      "text  : cover the interior of a mold with transparent wrap, adjusting it as best as possible. place slices of bread in the mold, cutting any excess to ensure a perfect fit. spread a layer of tomato sauce, ketchup, barbecue sauce, or pink sauce on the first layer of bread. add slices of turkey, york ham, serrano ham, or salami on top of the sauce. place another slice of bread on top without cutting it. spread a generous layer of mayonnaise over this slice to soak in. add your choice of sliced cheese on top of the mayonnaise. align the last slice of bread on top and gently press down, optionally weighing it down with a carton of milk. chill the cake in the refrigerator for at least 30 minutes. while the cake is chilling, prepare the bechamel sauce by melting butter in a pan over medium heat. once melted, add flour and cook for 30 seconds to a minute to eliminate the raw flavor. gradually add pre - warmed milk, stirring constantly to integrate the flour. continue to stir until the sauce thickens,\n",
      "====================================================================================================\n",
      "doc_id: CatCzJ0wnms\n",
      "title : Pinto Beans with Chorizo\n",
      "text  : soak the pinto beans overnight in water for at least 10 to 12 hours. drain the beans and place them in a large pot. add pancetta, chorizo, garlic, onion ( without removing the stem ), and a piece of green bell pepper. cover the beans with water, ensuring it rises a couple of inches above them. add a splash of olive oil but do not add salt yet. incorporate laurel leaves and a teaspoon of sweet paprika. bring the pot to a boil on high heat, then reduce to medium heat and cover the pot. cook gently without boiling vigorously. if using a ceramic stove with 12 settings, keep it at 6. allow to cook for about 1 to 2. 5 hours, depending on the quality of the beans. after an hour, uncover and check the beans. if they ' re not tender yet, continue cooking. in the last 20 minutes, add the blood sausage and 100 milliliters of cold water to ' shock ' the dish and stop the cooking. cover again and cook for another 15 to 20 minutes. after 10 to 12 minutes, uncover, remove the onion and green pepper, \n",
      "====================================================================================================\n",
      "doc_id: GYOrKbdAm-I\n",
      "title : Chilled Tuna Cake with Sliced Bread\n",
      "text  : in a large bowl, combine the cream cheese, drained tuna, and finely grated carrot. mix until smooth. add the halved cherry tomatoes and finely chopped walnuts to the mixture, stirring until well combined. line a mold ( 23 cm long, 15 cm wide, and 5. 5 cm deep ) with plastic wrap. begin layering with sliced bread, trimming if necessary to fit. spread a thin layer of mayonnaise over the first layer of bread. then add slices of ham, followed by a layer of cheese and a few leaves of lettuce. repeat the layering process : add another slice of bread, press down, then spread mayonnaise, followed by the cream cheese mixture. if there ' s leftover mixture, use it to make a sandwich. finish with a final slice of bread and a thin layer of mayonnaise on top. cover the chilled cake and place a plate with weight on top. refrigerate for at least four hours, preferably overnight. once set, remove the plastic wrap, invert onto a serving platter, and gently lift off the mold. decorate the top and sides \n",
      "====================================================================================================\n"
     ]
    }
   ],
   "source": [
    "print(f\"Query : {query_test}\")\n",
    "print(f\"Doc_id: {doc_id}\")\n",
    "print(f\"Results: {len(res_es_hybrid)}\")\n",
    "print(\"=\"*100)\n",
    "for r in res_es_hybrid:\n",
    "    print(f\"doc_id: {r['doc_id']}\")\n",
    "    print(f\"title : {r['title']}\")\n",
    "    print(f\"text  : {r['text'][:1000]}\")\n",
    "    print(\"=\"*100)"
   ]
  },
  {
   "cell_type": "markdown",
   "id": "bfbd69c8-6a7b-44fc-8602-47137e91a171",
   "metadata": {},
   "source": [
    "## Evaluate"
   ]
  },
  {
   "cell_type": "markdown",
   "id": "f6282aa3-be90-4dca-87f7-5290ea532187",
   "metadata": {},
   "source": [
    "Train Evaluation"
   ]
  },
  {
   "cell_type": "code",
   "execution_count": 23,
   "id": "f51b8504-ad8c-492b-894f-486836a49736",
   "metadata": {},
   "outputs": [],
   "source": [
    "def question_text_hybrid(q):\n",
    "    question = q['question']\n",
    "    return es_hybrid_query(\n",
    "        ES_CLIENT, \n",
    "        INDEX_NAME, \n",
    "        question,\n",
    "        EMBEDDINGS, \n",
    "        VECTOR_FIELD\n",
    "    )"
   ]
  },
  {
   "cell_type": "code",
   "execution_count": 24,
   "id": "4ecea1f5-0c34-45e3-972a-598bfaf2a21a",
   "metadata": {},
   "outputs": [
    {
     "name": "stdout",
     "output_type": "stream",
     "text": [
      "Dataset size: 928\n",
      "CPU times: user 7.07 s, sys: 82.5 ms, total: 7.16 s\n",
      "Wall time: 15.1 s\n"
     ]
    }
   ],
   "source": [
    "%%time\n",
    "ground_truth_train = df_ground_truth_train.to_dict(orient='records')\n",
    "print(f\"Dataset size: {len(ground_truth_train)}\")\n",
    "eval_train_es_hybrid = evaluate(\n",
    "    ground_truth_train, \n",
    "    question_text_hybrid\n",
    ")"
   ]
  },
  {
   "cell_type": "code",
   "execution_count": 25,
   "id": "6d9ba60e-6711-4323-bf0e-0e47dc32fa4f",
   "metadata": {},
   "outputs": [
    {
     "name": "stdout",
     "output_type": "stream",
     "text": [
      "[EVAL-TRAIN] Hybrid : {'hit_rate': 0.9181034482758621, 'mrr': 0.8942887931034492}\n"
     ]
    }
   ],
   "source": [
    "print(f\"[EVAL-TRAIN] Hybrid : {eval_train_es_hybrid}\")"
   ]
  },
  {
   "cell_type": "markdown",
   "id": "fe166e32-eb92-4771-8c5b-ea5d63c17686",
   "metadata": {},
   "source": [
    "Test Evaluation"
   ]
  },
  {
   "cell_type": "code",
   "execution_count": 26,
   "id": "4716427c-2f96-4e54-93c0-145eb36c5bcc",
   "metadata": {},
   "outputs": [
    {
     "name": "stdout",
     "output_type": "stream",
     "text": [
      "Dataset size: 232\n",
      "CPU times: user 1.65 s, sys: 10.5 ms, total: 1.66 s\n",
      "Wall time: 3.2 s\n"
     ]
    }
   ],
   "source": [
    "%%time\n",
    "ground_truth_val = df_ground_truth_val.to_dict(orient='records')\n",
    "print(f\"Dataset size: {len(ground_truth_val)}\")\n",
    "eval_valid_es_hybrid = evaluate(\n",
    "    ground_truth_val, \n",
    "    question_text_hybrid)"
   ]
  },
  {
   "cell_type": "code",
   "execution_count": 27,
   "id": "1082b09a-2e7a-491a-987d-f99f132e3999",
   "metadata": {},
   "outputs": [
    {
     "name": "stdout",
     "output_type": "stream",
     "text": [
      "[EVAL-TRAIN] Hybrid : {'hit_rate': 0.9181034482758621, 'mrr': 0.8942887931034492}\n",
      "[EVAL-VALID] Hybrid : {'hit_rate': 0.9310344827586207, 'mrr': 0.8894396551724137}\n"
     ]
    }
   ],
   "source": [
    "print(f\"[EVAL-TRAIN] Hybrid : {eval_train_es_hybrid}\")\n",
    "print(f\"[EVAL-VALID] Hybrid : {eval_valid_es_hybrid}\")"
   ]
  },
  {
   "cell_type": "markdown",
   "id": "4742a16b-7ff2-41d9-acc4-dccdd2dc79ec",
   "metadata": {},
   "source": [
    "Show results: Text + Hybrid"
   ]
  },
  {
   "cell_type": "code",
   "execution_count": 34,
   "id": "b90f2299-ce4a-4139-9a8b-d16dcbf73866",
   "metadata": {},
   "outputs": [
    {
     "name": "stdout",
     "output_type": "stream",
     "text": [
      "==========================================================================================\n",
      "= TEXT\n",
      "==========================================================================================\n",
      "[EVAL-TRAIN] Text   : {'hit_rate': 0.9137931034482759, 'mrr': 0.8790050287356329}\n",
      "[EVAL-VALID] Text   : {'hit_rate': 0.9181034482758621, 'mrr': 0.8711925287356324}\n",
      "==========================================================================================\n",
      "= HYBRID\n",
      "==========================================================================================\n",
      "[EVAL-TRAIN] Hybrid : {'hit_rate': 0.9181034482758621, 'mrr': 0.8942887931034492}\n",
      "[EVAL-VALID] Hybrid : {'hit_rate': 0.9310344827586207, 'mrr': 0.8894396551724137}\n"
     ]
    }
   ],
   "source": [
    "print(\"=\"*90)\n",
    "print(\"= TEXT\")\n",
    "print(\"=\"*90)\n",
    "print(f\"[EVAL-TRAIN] Text   : {eval_train_es_bm25}\")\n",
    "print(f\"[EVAL-VALID] Text   : {eval_valid_es_bm25}\")\n",
    "print(\"=\"*90)\n",
    "print(\"= HYBRID\")\n",
    "print(\"=\"*90)\n",
    "print(f\"[EVAL-TRAIN] Hybrid : {eval_train_es_hybrid}\")\n",
    "print(f\"[EVAL-VALID] Hybrid : {eval_valid_es_hybrid}\")"
   ]
  },
  {
   "cell_type": "markdown",
   "id": "526f59bc-7bd0-44db-b46d-bea3ece0e5d2",
   "metadata": {},
   "source": [
    "## Optimize"
   ]
  },
  {
   "cell_type": "markdown",
   "id": "ae137458-233b-4358-8260-dda0b8d18baf",
   "metadata": {},
   "source": [
    "Search optimization with dataset train"
   ]
  },
  {
   "cell_type": "code",
   "execution_count": 38,
   "id": "e6e6d8d3-a93c-4b80-bd47-91e5406c21be",
   "metadata": {},
   "outputs": [
    {
     "name": "stdout",
     "output_type": "stream",
     "text": [
      "100%|████████████████████████████████████████████████████████| 50/50 [09:45<00:00, 11.70s/trial, best loss: 0.08053160919540181]\n",
      "Mejores parámetros encontrados:\n",
      "{'ingredients': 1.5107278257070114, 'meals': 1.3267880385949111, 'summary': 3.3330549166389503, 'text': 2.9015143483052235, 'tips': 2.619409172670707, 'title': 1.8744388428292256, 'vector_boost': 0.8992024772398135}\n",
      "Boosts optimizados:\n",
      "{'meals': 1.3267880385949111, 'title': 1.8744388428292256, 'ingredients': 1.5107278257070114, 'summary': 3.3330549166389503, 'text': 2.9015143483052235, 'tips': 2.619409172670707, 'vector_boost': 0.8992024772398135}\n",
      "El mejor valor de MRR es: 0.9194683908045982\n",
      "CPU times: user 5min 21s, sys: 2.87 s, total: 5min 24s\n",
      "Wall time: 9min 45s\n"
     ]
    }
   ],
   "source": [
    "%%time\n",
    "best_es_hybrid_boosts, best_es_hybrid_mrr = run_hyperopt(\n",
    "    df=df_ground_truth_train, \n",
    "    es=ES_CLIENT, \n",
    "    index=INDEX_NAME,\n",
    "    es_with_boost=es_hybrid_query,\n",
    "    embeddings=EMBEDDINGS,\n",
    "    max_evals=50)"
   ]
  },
  {
   "cell_type": "code",
   "execution_count": 39,
   "id": "246e760f-e17b-424b-8224-31261d516542",
   "metadata": {},
   "outputs": [
    {
     "name": "stdout",
     "output_type": "stream",
     "text": [
      "[OPT] Hybrid mmr  : 0.9194683908045982\n",
      "[OPT] Hybrid Boost: {'meals': 1.3267880385949111, 'title': 1.8744388428292256, 'ingredients': 1.5107278257070114, 'summary': 3.3330549166389503, 'text': 2.9015143483052235, 'tips': 2.619409172670707, 'vector_boost': 0.8992024772398135}\n"
     ]
    }
   ],
   "source": [
    "print(f\"[OPT] Hybrid mmr  : {best_es_hybrid_mrr}\")\n",
    "print(f\"[OPT] Hybrid Boost: {best_es_hybrid_boosts}\")"
   ]
  },
  {
   "cell_type": "code",
   "execution_count": 64,
   "id": "69269707-d6e4-4f99-a885-37969794d8f6",
   "metadata": {},
   "outputs": [
    {
     "name": "stdout",
     "output_type": "stream",
     "text": [
      "[OPT] Hybrid mmr  : 0.8987607758620697\n",
      "[OPT] Hybrid Boost: {'meals': 2.460981535145023, 'title': 2.382239923997698, 'ingredients': 0.053659830493543836, 'summary': 3.4243613112336804, 'text': 3.2992663636996666, 'tips': 2.749609181985322}\n"
     ]
    }
   ],
   "source": [
    "print(f\"[OPT] Hybrid mmr  : {best_es_hybrid_mrr}\")\n",
    "print(f\"[OPT] Hybrid Boost: {best_es_hybrid_boosts}\")"
   ]
  },
  {
   "cell_type": "markdown",
   "id": "f080bde2-7780-4c88-8380-d08fa4ae899e",
   "metadata": {},
   "source": [
    "Train Evaluation with Hybrid + Boosting"
   ]
  },
  {
   "cell_type": "code",
   "execution_count": 40,
   "id": "cbe42750-c95d-469d-9211-4960928f6fb8",
   "metadata": {},
   "outputs": [],
   "source": [
    "def question_text_hybrid_boosts(q):\n",
    "    question = q['question']\n",
    "    return es_hybrid_query(\n",
    "        ES_CLIENT, \n",
    "        INDEX_NAME, \n",
    "        question,\n",
    "        EMBEDDINGS, \n",
    "        VECTOR_FIELD, \n",
    "        best_es_hybrid_boosts\n",
    "    )"
   ]
  },
  {
   "cell_type": "code",
   "execution_count": 41,
   "id": "e6eb94af-d71e-4e71-a2f2-f106d6d9e63f",
   "metadata": {},
   "outputs": [
    {
     "name": "stdout",
     "output_type": "stream",
     "text": [
      "Dataset size: 928\n",
      "CPU times: user 6.62 s, sys: 47.7 ms, total: 6.67 s\n",
      "Wall time: 12 s\n"
     ]
    }
   ],
   "source": [
    "%%time\n",
    "ground_truth_train = df_ground_truth_train.to_dict(orient='records')\n",
    "print(f\"Dataset size: {len(ground_truth_train)}\")\n",
    "eval_train_es_hybrid_boosts = evaluate(\n",
    "    ground_truth_train, \n",
    "    question_text_hybrid_boosts\n",
    ")"
   ]
  },
  {
   "cell_type": "code",
   "execution_count": 42,
   "id": "dabef697-3d20-4859-aa0a-81fd7bcbed45",
   "metadata": {},
   "outputs": [
    {
     "name": "stdout",
     "output_type": "stream",
     "text": [
      "[EVAL-TRAIN] Hybrid      : {'hit_rate': 0.9181034482758621, 'mrr': 0.8942887931034492}\n",
      "[EVAL-TRAIN] Hybrid Boost: {'hit_rate': 0.9224137931034483, 'mrr': 0.9194683908045982}\n"
     ]
    }
   ],
   "source": [
    "print(f\"[EVAL-TRAIN] Hybrid      : {eval_train_es_hybrid}\")\n",
    "print(f\"[EVAL-TRAIN] Hybrid Boost: {eval_train_es_hybrid_boosts}\")"
   ]
  },
  {
   "cell_type": "code",
   "execution_count": 67,
   "id": "0bb20c96-b505-4498-a170-6dd97ba870d2",
   "metadata": {},
   "outputs": [
    {
     "name": "stdout",
     "output_type": "stream",
     "text": [
      "[EVAL-TRAIN] Hybrid      : {'hit_rate': 0.9181034482758621, 'mrr': 0.8963182471264378}\n",
      "[EVAL-TRAIN] Hybrid Boost: {'hit_rate': 0.9137931034482759, 'mrr': 0.8987607758620697}\n"
     ]
    }
   ],
   "source": [
    "print(f\"[EVAL-TRAIN] Hybrid      : {eval_train_es_hybrid}\")\n",
    "print(f\"[EVAL-TRAIN] Hybrid Boost: {eval_train_es_hybrid_boosts}\")"
   ]
  },
  {
   "cell_type": "markdown",
   "id": "99c5278a-d88e-4181-97d3-8e8b31556d29",
   "metadata": {},
   "source": [
    "Test Evaluation with Hybrid + Boosting"
   ]
  },
  {
   "cell_type": "code",
   "execution_count": 43,
   "id": "8d13d422-3f7a-4fdd-ae57-0e21aa00ad7b",
   "metadata": {},
   "outputs": [
    {
     "name": "stdout",
     "output_type": "stream",
     "text": [
      "Dataset size: 232\n",
      "CPU times: user 1.74 s, sys: 28.3 ms, total: 1.77 s\n",
      "Wall time: 3.13 s\n"
     ]
    }
   ],
   "source": [
    "%%time\n",
    "ground_truth_val = df_ground_truth_val.to_dict(orient='records')\n",
    "print(f\"Dataset size: {len(ground_truth_val)}\")\n",
    "eval_valid_es_hybrid_boosts = evaluate(\n",
    "    ground_truth_val, \n",
    "    question_text_hybrid_boosts\n",
    ")"
   ]
  },
  {
   "cell_type": "code",
   "execution_count": 44,
   "id": "fdf610cc-be13-42ef-b601-5351c53e61e8",
   "metadata": {},
   "outputs": [
    {
     "name": "stdout",
     "output_type": "stream",
     "text": [
      "[EVAL-TRAIN] Hybrid      : {'hit_rate': 0.9310344827586207, 'mrr': 0.8894396551724137}\n",
      "[EVAL-TRAIN] Hybrid Boost: {'hit_rate': 0.9396551724137931, 'mrr': 0.9077586206896553}\n"
     ]
    }
   ],
   "source": [
    "print(f\"[EVAL-TRAIN] Hybrid      : {eval_valid_es_hybrid}\")\n",
    "print(f\"[EVAL-TRAIN] Hybrid Boost: {eval_valid_es_hybrid_boosts}\")"
   ]
  },
  {
   "cell_type": "code",
   "execution_count": 69,
   "id": "0dc09079-dca9-4502-851e-e3e7ab021311",
   "metadata": {},
   "outputs": [
    {
     "name": "stdout",
     "output_type": "stream",
     "text": [
      "[EVAL-TRAIN] Hybrid      : {'hit_rate': 0.9267241379310345, 'mrr': 0.8914511494252874}\n",
      "[EVAL-TRAIN] Hybrid Boost: {'hit_rate': 0.9267241379310345, 'mrr': 0.8833333333333336}\n"
     ]
    }
   ],
   "source": [
    "print(f\"[EVAL-TRAIN] Hybrid      : {eval_valid_es_hybrid}\")\n",
    "print(f\"[EVAL-TRAIN] Hybrid Boost: {eval_valid_es_hybrid_boosts}\")"
   ]
  },
  {
   "cell_type": "markdown",
   "id": "d8d47a2f-23fd-4652-994d-3fdd8af5abd4",
   "metadata": {},
   "source": [
    "Show Results: Text + Hybrid + Boosting"
   ]
  },
  {
   "cell_type": "code",
   "execution_count": 52,
   "id": "3d7a695c-aa95-45b0-a1f4-5aa206dd69ec",
   "metadata": {},
   "outputs": [
    {
     "name": "stdout",
     "output_type": "stream",
     "text": [
      "==========================================================================================\n",
      "= TEXT\n",
      "==========================================================================================\n",
      "[EVAL-TRAIN] Text        : {'hit_rate': 0.9137931034482759, 'mrr': 0.8790050287356329}\n",
      "[EVAL-TRAIN] Text Boost  : {'hit_rate': 0.9137931034482759, 'mrr': 0.8933369252873572}\n",
      "[EVAL-VALID] Text        : {'hit_rate': 0.9181034482758621, 'mrr': 0.8711925287356324}\n",
      "[EVAL-VALID] Text Boost  : {'hit_rate': 0.9310344827586207, 'mrr': 0.8790229885057472}\n",
      "==========================================================================================\n",
      "= HYBRID\n",
      "==========================================================================================\n",
      "[EVAL-TRAIN] Hybrid      : {'hit_rate': 0.9181034482758621, 'mrr': 0.8942887931034492}\n",
      "[EVAL-TRAIN] Hybrid Boost: {'hit_rate': 0.9224137931034483, 'mrr': 0.9194683908045982}\n",
      "[EVAL-VALID] Hybrid      : {'hit_rate': 0.9310344827586207, 'mrr': 0.8894396551724137}\n",
      "[EVAL-VALID] Hybrid Boost: {'hit_rate': 0.9396551724137931, 'mrr': 0.9077586206896553}\n"
     ]
    }
   ],
   "source": [
    "print(\"=\"*90)\n",
    "print(\"= TEXT\")\n",
    "print(\"=\"*90)\n",
    "print(f\"[EVAL-TRAIN] Text        : {eval_train_es_bm25}\")\n",
    "print(f\"[EVAL-TRAIN] Text Boost  : {eval_train_es_bm25_boosts}\")\n",
    "print(f\"[EVAL-VALID] Text        : {eval_valid_es_bm25}\")\n",
    "print(f\"[EVAL-VALID] Text Boost  : {eval_valid_es_bm25_boosts}\")\n",
    "print(\"=\"*90)\n",
    "print(\"= HYBRID\")\n",
    "print(\"=\"*90)\n",
    "print(f\"[EVAL-TRAIN] Hybrid      : {eval_train_es_hybrid}\")\n",
    "print(f\"[EVAL-TRAIN] Hybrid Boost: {eval_train_es_hybrid_boosts}\")\n",
    "print(f\"[EVAL-VALID] Hybrid      : {eval_valid_es_hybrid}\")\n",
    "print(f\"[EVAL-VALID] Hybrid Boost: {eval_valid_es_hybrid_boosts}\")"
   ]
  },
  {
   "cell_type": "code",
   "execution_count": 71,
   "id": "a5d24597-8cbd-40af-913d-88753887326d",
   "metadata": {},
   "outputs": [
    {
     "name": "stdout",
     "output_type": "stream",
     "text": [
      "==========================================================================================\n",
      "= TEXT\n",
      "==========================================================================================\n",
      "[EVAL-TRAIN] Text        : {'hit_rate': 0.9137931034482759, 'mrr': 0.8790050287356329}\n",
      "[EVAL-TRAIN] Text Boost  : {'hit_rate': 0.9137931034482759, 'mrr': 0.8933369252873572}\n",
      "[EVAL-VALID] Text        : {'hit_rate': 0.9181034482758621, 'mrr': 0.8711925287356324}\n",
      "[EVAL-VALID] Text Boost  : {'hit_rate': 0.9310344827586207, 'mrr': 0.8790229885057472}\n",
      "==========================================================================================\n",
      "= HYBRID\n",
      "==========================================================================================\n",
      "[EVAL-TRAIN] Hybrid      : {'hit_rate': 0.9181034482758621, 'mrr': 0.8963182471264378}\n",
      "[EVAL-TRAIN] Hybrid Boost: {'hit_rate': 0.9137931034482759, 'mrr': 0.8987607758620697}\n",
      "[EVAL-VALID] Hybrid      : {'hit_rate': 0.9267241379310345, 'mrr': 0.8914511494252874}\n",
      "[EVAL-VALID] Hybrid Boost: {'hit_rate': 0.9267241379310345, 'mrr': 0.8833333333333336}\n"
     ]
    }
   ],
   "source": [
    "print(\"=\"*90)\n",
    "print(\"= TEXT\")\n",
    "print(\"=\"*90)\n",
    "print(f\"[EVAL-TRAIN] Text        : {eval_train_es_bm25}\")\n",
    "print(f\"[EVAL-TRAIN] Text Boost  : {eval_train_es_bm25_boosts}\")\n",
    "print(f\"[EVAL-VALID] Text        : {eval_valid_es_bm25}\")\n",
    "print(f\"[EVAL-VALID] Text Boost  : {eval_valid_es_bm25_boosts}\")\n",
    "print(\"=\"*90)\n",
    "print(\"= HYBRID\")\n",
    "print(\"=\"*90)\n",
    "print(f\"[EVAL-TRAIN] Hybrid      : {eval_train_es_hybrid}\")\n",
    "print(f\"[EVAL-TRAIN] Hybrid Boost: {eval_train_es_hybrid_boosts}\")\n",
    "print(f\"[EVAL-VALID] Hybrid      : {eval_valid_es_hybrid}\")\n",
    "print(f\"[EVAL-VALID] Hybrid Boost: {eval_valid_es_hybrid_boosts}\")"
   ]
  },
  {
   "cell_type": "markdown",
   "id": "d4dda3c1-03a2-41d0-8418-ecd84f2ae7a9",
   "metadata": {},
   "source": [
    "## Save results"
   ]
  },
  {
   "cell_type": "code",
   "execution_count": 53,
   "id": "f61c7f8c-f5be-4f7a-b20a-10e398fcfba2",
   "metadata": {},
   "outputs": [
    {
     "data": {
      "text/plain": [
       "{'method': 'es_hybrid',\n",
       " 'best_boosts': {'meals': 1.3267880385949111,\n",
       "  'title': 1.8744388428292256,\n",
       "  'ingredients': 1.5107278257070114,\n",
       "  'summary': 3.3330549166389503,\n",
       "  'text': 2.9015143483052235,\n",
       "  'tips': 2.619409172670707,\n",
       "  'vector_boost': 0.8992024772398135},\n",
       " 'best_mrr': 0.9194683908045982,\n",
       " 'base_train_hit_rate': 0.9181034482758621,\n",
       " 'base_train_mrr': 0.8942887931034492,\n",
       " 'base_valid_hit_rate': 0.9310344827586207,\n",
       " 'base_valid_mrr': 0.8894396551724137,\n",
       " 'boost_train_hit_rate': 0.9224137931034483,\n",
       " 'boost_train_mrr': 0.9194683908045982,\n",
       " 'boost_valid_hit_rate': 0.9396551724137931,\n",
       " 'boost_valid_mrr': 0.9077586206896553}"
      ]
     },
     "execution_count": 53,
     "metadata": {},
     "output_type": "execute_result"
    }
   ],
   "source": [
    "results_opt_es_hybrid = {\n",
    "    'method': 'es_hybrid',\n",
    "    'best_boosts': best_es_hybrid_boosts,\n",
    "    'best_mrr'   : best_es_hybrid_mrr,\n",
    "    # Base\n",
    "    'base_train_hit_rate': eval_train_es_hybrid['hit_rate'],\n",
    "    'base_train_mrr'     : eval_train_es_hybrid['mrr'],\n",
    "    'base_valid_hit_rate': eval_valid_es_hybrid['hit_rate'],\n",
    "    'base_valid_mrr'     : eval_valid_es_hybrid['mrr'],\n",
    "    # Boost\n",
    "    'boost_train_hit_rate' : eval_train_es_hybrid_boosts['hit_rate'],\n",
    "    'boost_train_mrr'      : eval_train_es_hybrid_boosts['mrr'],\n",
    "    'boost_valid_hit_rate' : eval_valid_es_hybrid_boosts['hit_rate'],\n",
    "    'boost_valid_mrr'  : eval_valid_es_hybrid_boosts['mrr'],\n",
    "}\n",
    "results_opt_es_hybrid"
   ]
  },
  {
   "cell_type": "code",
   "execution_count": 54,
   "id": "f8b36f13-97e3-4b96-a2f6-9788fe700bf4",
   "metadata": {},
   "outputs": [],
   "source": [
    "save_document(REST_OPT_ES_HYBRID_PATH, results_opt_es_hybrid)"
   ]
  },
  {
   "cell_type": "code",
   "execution_count": 55,
   "id": "588e845d-88f9-48d6-b9cc-69eb3aea4777",
   "metadata": {},
   "outputs": [
    {
     "name": "stdout",
     "output_type": "stream",
     "text": [
      "total 12K\n",
      "-rw-rw-r-- 1 aztleclan aztleclan 676 oct 26 01:53 res-opt-es-bm25.json\n",
      "-rw-rw-r-- 1 aztleclan aztleclan 723 oct 26 21:54 res-opt-es-hybrid.json\n",
      "-rw-rw-r-- 1 aztleclan aztleclan 682 oct 26 02:23 res-opt-es-hybrid-rrf.json\n"
     ]
    }
   ],
   "source": [
    "!ls -lh \"{EVAL_RETRIEVER_DATA_DIR}\""
   ]
  },
  {
   "cell_type": "code",
   "execution_count": 56,
   "id": "aef8e3aa-5c31-4054-8ff2-a690202152e6",
   "metadata": {},
   "outputs": [
    {
     "data": {
      "text/plain": [
       "{'method': 'es_hybrid',\n",
       " 'best_boosts': {'meals': 1.3267880385949111,\n",
       "  'title': 1.8744388428292256,\n",
       "  'ingredients': 1.5107278257070114,\n",
       "  'summary': 3.3330549166389503,\n",
       "  'text': 2.9015143483052235,\n",
       "  'tips': 2.619409172670707,\n",
       "  'vector_boost': 0.8992024772398135},\n",
       " 'best_mrr': 0.9194683908045982,\n",
       " 'base_train_hit_rate': 0.9181034482758621,\n",
       " 'base_train_mrr': 0.8942887931034492,\n",
       " 'base_valid_hit_rate': 0.9310344827586207,\n",
       " 'base_valid_mrr': 0.8894396551724137,\n",
       " 'boost_train_hit_rate': 0.9224137931034483,\n",
       " 'boost_train_mrr': 0.9194683908045982,\n",
       " 'boost_valid_hit_rate': 0.9396551724137931,\n",
       " 'boost_valid_mrr': 0.9077586206896553}"
      ]
     },
     "execution_count": 56,
     "metadata": {},
     "output_type": "execute_result"
    }
   ],
   "source": [
    "results_opt_es_hybrid = read_document(REST_OPT_ES_HYBRID_PATH)\n",
    "results_opt_es_hybrid"
   ]
  },
  {
   "cell_type": "markdown",
   "id": "16490000-db2c-44c1-8737-3390023e489a",
   "metadata": {},
   "source": [
    "# Reranking"
   ]
  },
  {
   "cell_type": "code",
   "execution_count": 102,
   "id": "ba2b26f4-0f77-4f5b-8a23-52f9b6fac39e",
   "metadata": {},
   "outputs": [],
   "source": []
  },
  {
   "cell_type": "markdown",
   "id": "49d9262a-0dd9-4cc6-92f8-c026abb25d25",
   "metadata": {},
   "source": [
    "## Test Query"
   ]
  },
  {
   "cell_type": "code",
   "execution_count": 57,
   "id": "846da001-1173-41aa-a7fa-3176ff07a0c6",
   "metadata": {},
   "outputs": [
    {
     "name": "stdout",
     "output_type": "stream",
     "text": [
      "Doc_id: svBQ246217s@000, Query : What type of oil should I use to fry the chicken wings in the Delicious Mixed Rice recipe?\n"
     ]
    }
   ],
   "source": [
    "query_test = df_ground_truth.iloc[20].question\n",
    "doc_id = df_ground_truth.iloc[20].id\n",
    "print(f\"Doc_id: {doc_id}, Query : {query_test}\")\n",
    "VECTOR_FIELD='text_vector'"
   ]
  },
  {
   "cell_type": "code",
   "execution_count": 58,
   "id": "c26005b2-22d8-49e4-8d88-80a20ff6f842",
   "metadata": {},
   "outputs": [],
   "source": [
    "res_es_hybrid_rff = es_hybrid_rrf_query(\n",
    "    es_client=ES_CLIENT,\n",
    "    index_name=INDEX_NAME,\n",
    "    embeddings=EMBEDDINGS,\n",
    "    field=VECTOR_FIELD, \n",
    "    query=query_test\n",
    ")"
   ]
  },
  {
   "cell_type": "code",
   "execution_count": 59,
   "id": "b7cb65c6-6cc9-458c-9438-c6cdc46fa503",
   "metadata": {},
   "outputs": [
    {
     "name": "stdout",
     "output_type": "stream",
     "text": [
      "Query : What type of oil should I use to fry the chicken wings in the Delicious Mixed Rice recipe?\n",
      "Doc_id: svBQ246217s@000\n",
      "Results: 5\n",
      "====================================================================================================\n",
      "doc_id: svBQ246217s\n",
      "title : Delicious Mixed Rice\n",
      "text  : in a large paella pan, heat a generous amount of oil and fry the chicken wings, seasoning with salt until marked, then set aside. add chopped onion, red and green bell peppers to the pan and saute over medium heat until softened, then add minced garlic, being careful not to burn it. once the vegetables are cooked, incorporate the dried mushrooms and saute until they are well - fried before adding the fresh tomato. after a few minutes, return the chicken to the pan and mix all ingredients thoroughly, then pour in a glass of cider to deglaze. allow everything to cook together for a few minutes before adding the rice and stirring for one minute, then add food coloring for color. pour in hot broth and turn on the heat ; once it starts to boil, increase the heat for one minute and then reduce it. add the pre - cooked octopus and let it heat through, then lower the heat to about 75 % and avoid stirring for 16 minutes. ensure the rice is spread in a thin layer to prevent overcooking ; taste t\n",
      "====================================================================================================\n",
      "doc_id: EHZ5XMl8bM4\n",
      "title : Spaghetti Bolognese: The Original Recipe\n",
      "text  : peel the onion, remove the ends, and the outer layer. dice the onion into very small pieces. prepare the carrot by cutting it into strips and then into small pieces. optionally, you can also grate the carrot. clean the celery and cut it into long strips, then dice it into small cubes. peel the tomatoes, remove the ends and skin, then cut them into halves, strips, and small cubes. reserve the tomatoes with the chopped vegetables. heat a good amount of extra virgin olive oil in a pan and add the onion, carrot, and celery. season with a pinch of salt and cook over medium heat for 10 to 15 minutes until the vegetables are soft and slightly crunchy. once the vegetables are cooked, add the reserved tomatoes and a few tablespoons of tomato paste. stir for 2 to 3 minutes. if you prefer a smoother sauce, you can blend the mixture before adding the meat. add the ground beef to the pan along with some salt and freshly ground black pepper. keep in mind that the meat needs to be properly cooked bef\n",
      "====================================================================================================\n",
      "doc_id: EHZ5XMl8bM4\n",
      "title : Spaghetti Bolognese: The Original Recipe\n",
      "text  : minutes. when cooked, add the spaghetti directly to the bolognese sauce without draining. the cooking water will add moisture to the dish. stir to combine the spaghetti with the sauce thoroughly. if it seems dry, you can add a bit more cooking water and mix well. serve the spaghetti bolognese on a nice plate and enjoy this delicious recipe.\n",
      "====================================================================================================\n",
      "doc_id: b-sqc-9lr6Q\n",
      "title : Mixed Paella\n",
      "text  : start by preparing a homemade seafood broth. heat a good amount of olive oil in a pot, then add the shrimp heads, half an onion, and a tomato with a couple of cuts to release more flavor. saute over high heat. after a few minutes, add two tablespoons of pimiento choricero paste. stir until the oil takes on color, then pour in approximately 150 ml of white wine and simmer for two minutes. fill the pot with about three liters of water and add salt. allow the mixture to cook gently over medium heat for about 30 minutes. after 40 minutes, strain the broth into another container and keep it warm, as it will be needed for the paella. reduce the heat to low. in another pan, add a drizzle of olive oil to saute the vegetables. add finely chopped red and green bell peppers and onion, season with a bit of salt, and mix calmly over medium heat for about 12 minutes. once the vegetables are ready, incorporate the turkey and beef, seasoning with salt and black pepper. cook until the meat is browned, \n",
      "====================================================================================================\n",
      "doc_id: b-sqc-9lr6Q\n",
      "title : Mixed Paella\n",
      "text  : - high. once the alcohol has evaporated, add the rice and stir over medium - low heat for about a minute before pouring in the hot seafood broth. keep the broth warm. add the second liter of broth and spread the rice evenly. increase the heat and bring to a boil for five minutes. after five minutes, lower the heat to medium and let it finish cooking. ensure the rice forms a thin layer to avoid overcooking. after 18 minutes of cooking, turn off the heat and let the paella rest for three to four minutes before serving.\n",
      "====================================================================================================\n"
     ]
    }
   ],
   "source": [
    "print(f\"Query : {query_test}\")\n",
    "print(f\"Doc_id: {doc_id}\")\n",
    "print(f\"Results: {len(res_es_hybrid_rff)}\")\n",
    "print(\"=\"*100)\n",
    "for r in res_es_hybrid_rff:\n",
    "    print(f\"doc_id: {r['doc_id']}\")\n",
    "    print(f\"title : {r['title']}\")\n",
    "    print(f\"text  : {r['text'][:1000]}\")\n",
    "    print(\"=\"*100)"
   ]
  },
  {
   "cell_type": "markdown",
   "id": "f717d1d2-d077-4944-8c04-d565259f4b87",
   "metadata": {},
   "source": [
    "## Evaluate"
   ]
  },
  {
   "cell_type": "markdown",
   "id": "ccfbc228-1e11-4388-ba98-6a51e30fb7df",
   "metadata": {},
   "source": [
    "Train Evaluation with Hybrid"
   ]
  },
  {
   "cell_type": "code",
   "execution_count": 60,
   "id": "c4fa90cb-29d8-4c5c-9c0a-a65b5281cd2a",
   "metadata": {},
   "outputs": [],
   "source": [
    "def question_text_hybrid_rrf(q):\n",
    "    question = q['question']\n",
    "    return es_hybrid_rrf_query(\n",
    "        ES_CLIENT, \n",
    "        INDEX_NAME, \n",
    "        question,\n",
    "        EMBEDDINGS, \n",
    "        VECTOR_FIELD, \n",
    "    )"
   ]
  },
  {
   "cell_type": "code",
   "execution_count": 61,
   "id": "34fb06c9-5e42-476a-bd6e-45ac9611ab86",
   "metadata": {},
   "outputs": [
    {
     "name": "stdout",
     "output_type": "stream",
     "text": [
      "Dataset size: 928\n",
      "CPU times: user 16 s, sys: 271 ms, total: 16.3 s\n",
      "Wall time: 27.7 s\n"
     ]
    }
   ],
   "source": [
    "%%time\n",
    "ground_truth_train = df_ground_truth_train.to_dict(orient='records')\n",
    "print(f\"Dataset size: {len(ground_truth_train)}\")\n",
    "eval_train_es_hybrid_rrf = evaluate(\n",
    "    ground_truth_train, \n",
    "    question_text_hybrid_rrf)"
   ]
  },
  {
   "cell_type": "code",
   "execution_count": 62,
   "id": "22fba553-4a85-417e-ba74-1760b7a65bca",
   "metadata": {},
   "outputs": [
    {
     "name": "stdout",
     "output_type": "stream",
     "text": [
      "[EVAL-TRAIN] Hybrid-rff : {'hit_rate': 0.9181034482758621, 'mrr': 0.8894576149425297}\n"
     ]
    }
   ],
   "source": [
    "print(f\"[EVAL-TRAIN] Hybrid-rff : {eval_train_es_hybrid_rrf}\")"
   ]
  },
  {
   "cell_type": "markdown",
   "id": "c68541b5-7d90-41ad-bc81-5d9f6bd610e9",
   "metadata": {},
   "source": [
    "Test Evaluation with Hybrid RRF"
   ]
  },
  {
   "cell_type": "code",
   "execution_count": 63,
   "id": "136f07f2-45e0-4bbd-a495-5058726553a9",
   "metadata": {},
   "outputs": [
    {
     "name": "stdout",
     "output_type": "stream",
     "text": [
      "Dataset size: 232\n",
      "CPU times: user 3.96 s, sys: 55.1 ms, total: 4.01 s\n",
      "Wall time: 6.73 s\n"
     ]
    }
   ],
   "source": [
    "%%time\n",
    "ground_truth_val = df_ground_truth_val.to_dict(orient='records')\n",
    "print(f\"Dataset size: {len(ground_truth_val)}\")\n",
    "eval_valid_es_hybrid_rrf = evaluate(\n",
    "    ground_truth_val, \n",
    "    question_text_hybrid_rrf)"
   ]
  },
  {
   "cell_type": "code",
   "execution_count": 64,
   "id": "f8682f59-88a6-45d4-baa9-999bd4334829",
   "metadata": {},
   "outputs": [
    {
     "name": "stdout",
     "output_type": "stream",
     "text": [
      "[EVAL-TRAIN] Hybrid-rff : {'hit_rate': 0.9181034482758621, 'mrr': 0.8894576149425297}\n",
      "[EVAL-VALID] Hybrid-rff : {'hit_rate': 0.9310344827586207, 'mrr': 0.8849137931034482}\n"
     ]
    }
   ],
   "source": [
    "print(f\"[EVAL-TRAIN] Hybrid-rff : {eval_train_es_hybrid_rrf}\")\n",
    "print(f\"[EVAL-VALID] Hybrid-rff : {eval_valid_es_hybrid_rrf}\")"
   ]
  },
  {
   "cell_type": "markdown",
   "id": "472de656-f235-4e96-9017-6d59a4eacfbd",
   "metadata": {},
   "source": [
    "Show results: Text + Hybrid + Hybrid RRF"
   ]
  },
  {
   "cell_type": "code",
   "execution_count": 65,
   "id": "72899f8c-e534-4cf5-a598-6fcebbee2547",
   "metadata": {},
   "outputs": [
    {
     "name": "stdout",
     "output_type": "stream",
     "text": [
      "==========================================================================================\n",
      "= TEXT\n",
      "==========================================================================================\n",
      "[EVAL-TRAIN] Text       : {'hit_rate': 0.9137931034482759, 'mrr': 0.8790050287356329}\n",
      "[EVAL-VALID] Text       : {'hit_rate': 0.9181034482758621, 'mrr': 0.8711925287356324}\n",
      "==========================================================================================\n",
      "= HYBRID\n",
      "==========================================================================================\n",
      "[EVAL-TRAIN] Hybrid     : {'hit_rate': 0.9181034482758621, 'mrr': 0.8942887931034492}\n",
      "[EVAL-VALID] Hybrid     : {'hit_rate': 0.9310344827586207, 'mrr': 0.8894396551724137}\n",
      "==========================================================================================\n",
      "= HYBRID RRF\n",
      "==========================================================================================\n",
      "[EVAL-TRAIN] Hybrid-rrf : {'hit_rate': 0.9181034482758621, 'mrr': 0.8894576149425297}\n",
      "[EVAL-VALID] Hybrid-rrf : {'hit_rate': 0.9310344827586207, 'mrr': 0.8849137931034482}\n"
     ]
    }
   ],
   "source": [
    "print(\"=\"*90)\n",
    "print(\"= TEXT\")\n",
    "print(\"=\"*90)\n",
    "print(f\"[EVAL-TRAIN] Text       : {eval_train_es_bm25}\")\n",
    "print(f\"[EVAL-VALID] Text       : {eval_valid_es_bm25}\")\n",
    "print(\"=\"*90)\n",
    "print(\"= HYBRID\")\n",
    "print(\"=\"*90)\n",
    "print(f\"[EVAL-TRAIN] Hybrid     : {eval_train_es_hybrid}\")\n",
    "print(f\"[EVAL-VALID] Hybrid     : {eval_valid_es_hybrid}\")\n",
    "print(\"=\"*90)\n",
    "print(\"= HYBRID RRF\")\n",
    "print(\"=\"*90)\n",
    "print(f\"[EVAL-TRAIN] Hybrid-rrf : {eval_train_es_hybrid_rrf}\")\n",
    "print(f\"[EVAL-VALID] Hybrid-rrf : {eval_valid_es_hybrid_rrf}\")"
   ]
  },
  {
   "cell_type": "markdown",
   "id": "520b6d24-4dfc-453a-a274-04d6f8221b1b",
   "metadata": {},
   "source": [
    "## Optimize"
   ]
  },
  {
   "cell_type": "markdown",
   "id": "c18d99b2-528c-4f03-9caa-8d50b0a31611",
   "metadata": {},
   "source": [
    "earch optimization with dataset train"
   ]
  },
  {
   "cell_type": "code",
   "execution_count": 66,
   "id": "3a0c5301-9826-42ef-8f58-a77e00f6cf90",
   "metadata": {},
   "outputs": [
    {
     "name": "stdout",
     "output_type": "stream",
     "text": [
      "100%|████████████████████████████████████████████████████████| 50/50 [21:37<00:00, 25.95s/trial, best loss: 0.09163074712643593]        \n",
      "Mejores parámetros encontrados:\n",
      "{'ingredients': 4.882772492268252, 'meals': 1.4671273591308425, 'summary': 4.882702537681318, 'text': 4.368904374010877, 'tips': 1.2126808445885127, 'title': 1.47987055694058, 'vector_boost': 0.10557689395629086}\n",
      "Boosts optimizados:\n",
      "{'meals': 1.4671273591308425, 'title': 1.47987055694058, 'ingredients': 4.882772492268252, 'summary': 4.882702537681318, 'text': 4.368904374010877, 'tips': 1.2126808445885127, 'vector_boost': 0.10557689395629086}\n",
      "El mejor valor de MRR es: 0.9083692528735641\n",
      "CPU times: user 12min 43s, sys: 13.2 s, total: 12min 56s\n",
      "Wall time: 21min 37s\n"
     ]
    }
   ],
   "source": [
    "%%time\n",
    "best_es_hybrid_rrf_boosts, best_es_hybrid_rff_mrr = run_hyperopt(\n",
    "    df=df_ground_truth_train, \n",
    "    es=ES_CLIENT, \n",
    "    index=INDEX_NAME,\n",
    "    es_with_boost=es_hybrid_rrf_query,\n",
    "    embeddings=EMBEDDINGS,\n",
    "    max_evals=50)"
   ]
  },
  {
   "cell_type": "code",
   "execution_count": 67,
   "id": "5281babc-07b2-468e-8d0d-5d3c8a91b5d7",
   "metadata": {},
   "outputs": [
    {
     "name": "stdout",
     "output_type": "stream",
     "text": [
      "[OPT] Hybrid-rrf mmr  : 0.9083692528735641\n",
      "[OPT] Hybrid-rrf boost: {'meals': 1.4671273591308425, 'title': 1.47987055694058, 'ingredients': 4.882772492268252, 'summary': 4.882702537681318, 'text': 4.368904374010877, 'tips': 1.2126808445885127, 'vector_boost': 0.10557689395629086}\n"
     ]
    }
   ],
   "source": [
    "print(f\"[OPT] Hybrid-rrf mmr  : {best_es_hybrid_rff_mrr}\")\n",
    "print(f\"[OPT] Hybrid-rrf boost: {best_es_hybrid_rrf_boosts}\")"
   ]
  },
  {
   "cell_type": "code",
   "execution_count": 95,
   "id": "95fc86ba-f7ee-4845-b073-182d86f2ccec",
   "metadata": {},
   "outputs": [
    {
     "name": "stdout",
     "output_type": "stream",
     "text": [
      "[OPT] Hybrid-rrf mmr  : 0.8948096264367823\n",
      "[OPT] Hybrid-rrf boost: {'meals': 3.3780065729545834, 'title': 2.350519748557916, 'ingredients': 1.8480562377707013, 'summary': 4.142904195381872, 'text': 3.8827414870597465, 'tips': 3.2750400070515573}\n"
     ]
    }
   ],
   "source": [
    "print(f\"[OPT] Hybrid-rrf mmr  : {best_es_hybrid_rff_mrr}\")\n",
    "print(f\"[OPT] Hybrid-rrf boost: {best_es_hybrid_rrf_boosts}\")"
   ]
  },
  {
   "cell_type": "markdown",
   "id": "f48ce057-ff05-4f73-ae03-cf07cd09809d",
   "metadata": {},
   "source": [
    "Train Evaluation with Hybrid RRF + Boosting"
   ]
  },
  {
   "cell_type": "code",
   "execution_count": 68,
   "id": "aa5a267a-1fec-4640-a9ba-f85755172da3",
   "metadata": {},
   "outputs": [],
   "source": [
    "def question_text_hybrid_rrf_boosts(q):\n",
    "    question = q['question']\n",
    "    return es_hybrid_rrf_query(\n",
    "        ES_CLIENT, \n",
    "        INDEX_NAME, \n",
    "        question,\n",
    "        EMBEDDINGS, \n",
    "        VECTOR_FIELD, \n",
    "        best_es_hybrid_rrf_boosts\n",
    "    )"
   ]
  },
  {
   "cell_type": "code",
   "execution_count": 69,
   "id": "1935d612-e5df-49f6-bfc7-4ebb80f698e6",
   "metadata": {},
   "outputs": [
    {
     "name": "stdout",
     "output_type": "stream",
     "text": [
      "Dataset size: 928\n",
      "CPU times: user 15.2 s, sys: 289 ms, total: 15.5 s\n",
      "Wall time: 26 s\n"
     ]
    }
   ],
   "source": [
    "%%time\n",
    "ground_truth_train = df_ground_truth_train.to_dict(orient='records')\n",
    "print(f\"Dataset size: {len(ground_truth_train)}\")\n",
    "eval_train_es_hybrid_rrf_boosts = evaluate(\n",
    "    ground_truth_train, \n",
    "    question_text_hybrid_rrf_boosts\n",
    ")"
   ]
  },
  {
   "cell_type": "code",
   "execution_count": 70,
   "id": "f05de057-bc12-44b1-a6b6-ac6a64dc93b0",
   "metadata": {},
   "outputs": [
    {
     "name": "stdout",
     "output_type": "stream",
     "text": [
      "[EVAL-TRAIN] Hybrid-rrf      : {'hit_rate': 0.9181034482758621, 'mrr': 0.8894576149425297}\n",
      "[EVAL-TRAIN] Hybrid-rff Boost: {'hit_rate': 0.9224137931034483, 'mrr': 0.9083692528735641}\n"
     ]
    }
   ],
   "source": [
    "print(f\"[EVAL-TRAIN] Hybrid-rrf      : {eval_train_es_hybrid_rrf}\")\n",
    "print(f\"[EVAL-TRAIN] Hybrid-rff Boost: {eval_train_es_hybrid_rrf_boosts}\")"
   ]
  },
  {
   "cell_type": "code",
   "execution_count": 98,
   "id": "350c8e12-039a-47cf-87b0-9e8144104da9",
   "metadata": {},
   "outputs": [
    {
     "name": "stdout",
     "output_type": "stream",
     "text": [
      "[EVAL-TRAIN] Hybrid-rrf      : {'hit_rate': 0.9181034482758621, 'mrr': 0.8894576149425297}\n",
      "[EVAL-TRAIN] Hybrid-rff Boost: {'hit_rate': 0.9148706896551724, 'mrr': 0.8948096264367823}\n"
     ]
    }
   ],
   "source": [
    "print(f\"[EVAL-TRAIN] Hybrid-rrf      : {eval_train_es_hybrid_rrf}\")\n",
    "print(f\"[EVAL-TRAIN] Hybrid-rff Boost: {eval_train_es_hybrid_rrf_boosts}\")"
   ]
  },
  {
   "cell_type": "markdown",
   "id": "9bf34fcb-ab45-43f9-a77b-6085d41ec571",
   "metadata": {},
   "source": [
    "Test Evaluation with Hybrid RRF + Boosting"
   ]
  },
  {
   "cell_type": "code",
   "execution_count": 71,
   "id": "57818ed7-4bdd-45ac-b511-0b206b2b1c85",
   "metadata": {},
   "outputs": [
    {
     "name": "stdout",
     "output_type": "stream",
     "text": [
      "Dataset size: 232\n",
      "CPU times: user 3.84 s, sys: 35.6 ms, total: 3.87 s\n",
      "Wall time: 6.51 s\n"
     ]
    }
   ],
   "source": [
    "%%time\n",
    "ground_truth_val = df_ground_truth_val.to_dict(orient='records')\n",
    "print(f\"Dataset size: {len(ground_truth_val)}\")\n",
    "eval_valid_es_hybrid_rrf_boosts = evaluate(\n",
    "    ground_truth_val, \n",
    "    question_text_hybrid_rrf_boosts)"
   ]
  },
  {
   "cell_type": "code",
   "execution_count": 72,
   "id": "2a76665c-ce96-4f70-af84-2955ad06a17b",
   "metadata": {},
   "outputs": [
    {
     "name": "stdout",
     "output_type": "stream",
     "text": [
      "[EVAL-TRAIN] Hybrid-rff      : {'hit_rate': 0.9310344827586207, 'mrr': 0.8849137931034482}\n",
      "[EVAL-TRAIN] Hybrid-rff Boost: {'hit_rate': 0.9396551724137931, 'mrr': 0.8985632183908048}\n"
     ]
    }
   ],
   "source": [
    "print(f\"[EVAL-TRAIN] Hybrid-rff      : {eval_valid_es_hybrid_rrf}\")\n",
    "print(f\"[EVAL-TRAIN] Hybrid-rff Boost: {eval_valid_es_hybrid_rrf_boosts}\")"
   ]
  },
  {
   "cell_type": "code",
   "execution_count": 100,
   "id": "36562c1c-9c50-4d41-bf8d-7471613e5924",
   "metadata": {},
   "outputs": [
    {
     "name": "stdout",
     "output_type": "stream",
     "text": [
      "[EVAL-TRAIN] Hybrid-rff      : {'hit_rate': 0.9310344827586207, 'mrr': 0.8849137931034482}\n",
      "[EVAL-TRAIN] Hybrid-rff Boost: {'hit_rate': 0.9353448275862069, 'mrr': 0.8829741379310347}\n"
     ]
    }
   ],
   "source": [
    "print(f\"[EVAL-TRAIN] Hybrid-rff      : {eval_valid_es_hybrid_rrf}\")\n",
    "print(f\"[EVAL-TRAIN] Hybrid-rff Boost: {eval_valid_es_hybrid_rrf_boosts}\")"
   ]
  },
  {
   "cell_type": "markdown",
   "id": "fd5a825b-95cc-44fc-9a6c-646c47d516f7",
   "metadata": {},
   "source": [
    "Show Results: Text + Hybrid + Hybrid RRF + Boosting"
   ]
  },
  {
   "cell_type": "code",
   "execution_count": 73,
   "id": "f3b2250b-18d3-49c3-ab5f-c15ab109f0f7",
   "metadata": {},
   "outputs": [
    {
     "name": "stdout",
     "output_type": "stream",
     "text": [
      "==========================================================================================\n",
      "= TEXT\n",
      "==========================================================================================\n",
      "[EVAL-TRAIN] Text            : {'hit_rate': 0.9137931034482759, 'mrr': 0.8790050287356329}\n",
      "[EVAL-TRAIN] Text Boost      : {'hit_rate': 0.9137931034482759, 'mrr': 0.8933369252873572}\n",
      "[EVAL-VALID] Text            : {'hit_rate': 0.9181034482758621, 'mrr': 0.8711925287356324}\n",
      "[EVAL-VALID] Text Boost      : {'hit_rate': 0.9310344827586207, 'mrr': 0.8790229885057472}\n",
      "==========================================================================================\n",
      "= HYBRID\n",
      "==========================================================================================\n",
      "[EVAL-TRAIN] Hybrid          : {'hit_rate': 0.9181034482758621, 'mrr': 0.8942887931034492}\n",
      "[EVAL-TRAIN] Hybrid Boost    : {'hit_rate': 0.9224137931034483, 'mrr': 0.9194683908045982}\n",
      "[EVAL-VALID] Hybrid          : {'hit_rate': 0.9310344827586207, 'mrr': 0.8894396551724137}\n",
      "[EVAL-VALID] Hybrid Boost    : {'hit_rate': 0.9396551724137931, 'mrr': 0.9077586206896553}\n",
      "==========================================================================================\n",
      "= HYBRID-RFF\n",
      "==========================================================================================\n",
      "[EVAL-TRAIN] Hybrid-rrf      : {'hit_rate': 0.9181034482758621, 'mrr': 0.8894576149425297}\n",
      "[EVAL-TRAIN] Hybrid-rrf Boost: {'hit_rate': 0.9224137931034483, 'mrr': 0.9083692528735641}\n",
      "[EVAL-VALID] Hybrid-rrf      : {'hit_rate': 0.9310344827586207, 'mrr': 0.8849137931034482}\n",
      "[EVAL-VALID] Hybrid-rrf Boost: {'hit_rate': 0.9396551724137931, 'mrr': 0.8985632183908048}\n"
     ]
    }
   ],
   "source": [
    "print(\"=\"*90)\n",
    "print(\"= TEXT\")\n",
    "print(\"=\"*90)\n",
    "print(f\"[EVAL-TRAIN] Text            : {eval_train_es_bm25}\")\n",
    "print(f\"[EVAL-TRAIN] Text Boost      : {eval_train_es_bm25_boosts}\")\n",
    "print(f\"[EVAL-VALID] Text            : {eval_valid_es_bm25}\")\n",
    "print(f\"[EVAL-VALID] Text Boost      : {eval_valid_es_bm25_boosts}\")\n",
    "print(\"=\"*90)\n",
    "print(\"= HYBRID\")\n",
    "print(\"=\"*90)\n",
    "print(f\"[EVAL-TRAIN] Hybrid          : {eval_train_es_hybrid}\")\n",
    "print(f\"[EVAL-TRAIN] Hybrid Boost    : {eval_train_es_hybrid_boosts}\")\n",
    "print(f\"[EVAL-VALID] Hybrid          : {eval_valid_es_hybrid}\")\n",
    "print(f\"[EVAL-VALID] Hybrid Boost    : {eval_valid_es_hybrid_boosts}\")\n",
    "print(\"=\"*90)\n",
    "print(\"= HYBRID-RFF\")\n",
    "print(\"=\"*90)\n",
    "print(f\"[EVAL-TRAIN] Hybrid-rrf      : {eval_train_es_hybrid_rrf}\")\n",
    "print(f\"[EVAL-TRAIN] Hybrid-rrf Boost: {eval_train_es_hybrid_rrf_boosts}\")\n",
    "print(f\"[EVAL-VALID] Hybrid-rrf      : {eval_valid_es_hybrid_rrf}\")\n",
    "print(f\"[EVAL-VALID] Hybrid-rrf Boost: {eval_valid_es_hybrid_rrf_boosts}\")"
   ]
  },
  {
   "cell_type": "code",
   "execution_count": 102,
   "id": "1bcdd0fd-e593-4822-9706-211345dfe051",
   "metadata": {},
   "outputs": [
    {
     "name": "stdout",
     "output_type": "stream",
     "text": [
      "==========================================================================================\n",
      "= TEXT\n",
      "==========================================================================================\n",
      "[EVAL-TRAIN] Text            : {'hit_rate': 0.9137931034482759, 'mrr': 0.8790050287356329}\n",
      "[EVAL-TRAIN] Text Boost      : {'hit_rate': 0.9137931034482759, 'mrr': 0.8933369252873572}\n",
      "[EVAL-VALID] Text            : {'hit_rate': 0.9181034482758621, 'mrr': 0.8711925287356324}\n",
      "[EVAL-VALID] Text Boost      : {'hit_rate': 0.9310344827586207, 'mrr': 0.8790229885057472}\n",
      "==========================================================================================\n",
      "= HYBRID\n",
      "==========================================================================================\n",
      "[EVAL-TRAIN] Hybrid          : {'hit_rate': 0.9181034482758621, 'mrr': 0.8963182471264378}\n",
      "[EVAL-TRAIN] Hybrid Boost    : {'hit_rate': 0.9137931034482759, 'mrr': 0.8987607758620697}\n",
      "[EVAL-VALID] Hybrid          : {'hit_rate': 0.9267241379310345, 'mrr': 0.8914511494252874}\n",
      "[EVAL-VALID] Hybrid Boost    : {'hit_rate': 0.9267241379310345, 'mrr': 0.8833333333333336}\n",
      "==========================================================================================\n",
      "= HYBRID-RFF\n",
      "==========================================================================================\n",
      "[EVAL-TRAIN] Hybrid-rrf      : {'hit_rate': 0.9181034482758621, 'mrr': 0.8894576149425297}\n",
      "[EVAL-TRAIN] Hybrid-rrf Boost: {'hit_rate': 0.9148706896551724, 'mrr': 0.8948096264367823}\n",
      "[EVAL-VALID] Hybrid          : {'hit_rate': 0.9310344827586207, 'mrr': 0.8849137931034482}\n",
      "[EVAL-VALID] Hybrid-rrf Boost: {'hit_rate': 0.9353448275862069, 'mrr': 0.8829741379310347}\n"
     ]
    }
   ],
   "source": [
    "print(\"=\"*90)\n",
    "print(\"= TEXT\")\n",
    "print(\"=\"*90)\n",
    "print(f\"[EVAL-TRAIN] Text            : {eval_train_es_bm25}\")\n",
    "print(f\"[EVAL-TRAIN] Text Boost      : {eval_train_es_bm25_boosts}\")\n",
    "print(f\"[EVAL-VALID] Text            : {eval_valid_es_bm25}\")\n",
    "print(f\"[EVAL-VALID] Text Boost      : {eval_valid_es_bm25_boosts}\")\n",
    "print(\"=\"*90)\n",
    "print(\"= HYBRID\")\n",
    "print(\"=\"*90)\n",
    "print(f\"[EVAL-TRAIN] Hybrid          : {eval_train_es_hybrid}\")\n",
    "print(f\"[EVAL-TRAIN] Hybrid Boost    : {eval_train_es_hybrid_boosts}\")\n",
    "print(f\"[EVAL-VALID] Hybrid          : {eval_valid_es_hybrid}\")\n",
    "print(f\"[EVAL-VALID] Hybrid Boost    : {eval_valid_es_hybrid_boosts}\")\n",
    "print(\"=\"*90)\n",
    "print(\"= HYBRID-RFF\")\n",
    "print(\"=\"*90)\n",
    "print(f\"[EVAL-TRAIN] Hybrid-rrf      : {eval_train_es_hybrid_rrf}\")\n",
    "print(f\"[EVAL-TRAIN] Hybrid-rrf Boost: {eval_train_es_hybrid_rrf_boosts}\")\n",
    "print(f\"[EVAL-VALID] Hybrid          : {eval_valid_es_hybrid_rrf}\")\n",
    "print(f\"[EVAL-VALID] Hybrid-rrf Boost: {eval_valid_es_hybrid_rrf_boosts}\")"
   ]
  },
  {
   "cell_type": "markdown",
   "id": "9fc09e56-39ec-438b-b1d8-3481cfed1226",
   "metadata": {},
   "source": [
    "## Save results"
   ]
  },
  {
   "cell_type": "code",
   "execution_count": 77,
   "id": "507591d7-70c7-45c1-aae0-ded870a8e9e6",
   "metadata": {},
   "outputs": [
    {
     "data": {
      "text/plain": [
       "{'method': 'es_hybrid_rrf',\n",
       " 'best_boosts': {'meals': 1.4671273591308425,\n",
       "  'title': 1.47987055694058,\n",
       "  'ingredients': 4.882772492268252,\n",
       "  'summary': 4.882702537681318,\n",
       "  'text': 4.368904374010877,\n",
       "  'tips': 1.2126808445885127,\n",
       "  'vector_boost': 0.10557689395629086},\n",
       " 'best_mrr': 0.9083692528735641,\n",
       " 'base_train_hit_rate': 0.9181034482758621,\n",
       " 'base_train_mrr': 0.8894576149425297,\n",
       " 'base_valid_hit_rate': 0.9310344827586207,\n",
       " 'base_valid_mrr': 0.8849137931034482,\n",
       " 'boost_train_hit_rate': 0.9224137931034483,\n",
       " 'boost_train_mrr': 0.9083692528735641,\n",
       " 'boost_valid_hit_rate': 0.9396551724137931,\n",
       " 'boost_valid_mrr': 0.8985632183908048}"
      ]
     },
     "execution_count": 77,
     "metadata": {},
     "output_type": "execute_result"
    }
   ],
   "source": [
    "results_opt_es_hybrid_rrf = {\n",
    "    'method': 'es_hybrid_rrf',\n",
    "    'best_boosts': best_es_hybrid_rrf_boosts,\n",
    "    'best_mrr'   : best_es_hybrid_rff_mrr,\n",
    "    # Base\n",
    "    'base_train_hit_rate': eval_train_es_hybrid_rrf['hit_rate'],\n",
    "    'base_train_mrr'     : eval_train_es_hybrid_rrf['mrr'],\n",
    "    'base_valid_hit_rate': eval_valid_es_hybrid_rrf['hit_rate'],\n",
    "    'base_valid_mrr'     : eval_valid_es_hybrid_rrf['mrr'],\n",
    "    # Boost\n",
    "    'boost_train_hit_rate' : eval_train_es_hybrid_rrf_boosts['hit_rate'],\n",
    "    'boost_train_mrr'      : eval_train_es_hybrid_rrf_boosts['mrr'],\n",
    "    'boost_valid_hit_rate' : eval_valid_es_hybrid_rrf_boosts['hit_rate'],\n",
    "    'boost_valid_mrr'  : eval_valid_es_hybrid_rrf_boosts['mrr'],\n",
    "\n",
    "}\n",
    "results_opt_es_hybrid_rrf"
   ]
  },
  {
   "cell_type": "code",
   "execution_count": 78,
   "id": "077958c3-3ce2-4aff-a502-40266d98a9fb",
   "metadata": {},
   "outputs": [],
   "source": [
    "save_document(REST_OPT_ES_HYBRID_RRF_PATH, results_opt_es_hybrid_rrf)"
   ]
  },
  {
   "cell_type": "code",
   "execution_count": 79,
   "id": "990c6e2b-467d-46c7-9783-27a2790304f6",
   "metadata": {},
   "outputs": [
    {
     "name": "stdout",
     "output_type": "stream",
     "text": [
      "total 12K\n",
      "-rw-rw-r-- 1 aztleclan aztleclan 676 oct 26 01:53 res-opt-es-bm25.json\n",
      "-rw-rw-r-- 1 aztleclan aztleclan 723 oct 26 21:54 res-opt-es-hybrid.json\n",
      "-rw-rw-r-- 1 aztleclan aztleclan 724 oct 26 22:20 res-opt-es-hybrid-rrf.json\n"
     ]
    }
   ],
   "source": [
    "!ls -lh \"{EVAL_RETRIEVER_DATA_DIR}\""
   ]
  },
  {
   "cell_type": "code",
   "execution_count": 82,
   "id": "080916e4-df45-4d6d-ac88-f1e4e588fd89",
   "metadata": {},
   "outputs": [
    {
     "data": {
      "text/plain": [
       "{'method': 'es_hybrid_rrf',\n",
       " 'best_boosts': {'meals': 1.4671273591308425,\n",
       "  'title': 1.47987055694058,\n",
       "  'ingredients': 4.882772492268252,\n",
       "  'summary': 4.882702537681318,\n",
       "  'text': 4.368904374010877,\n",
       "  'tips': 1.2126808445885127,\n",
       "  'vector_boost': 0.10557689395629086},\n",
       " 'best_mrr': 0.9083692528735641,\n",
       " 'base_train_hit_rate': 0.9181034482758621,\n",
       " 'base_train_mrr': 0.8894576149425297,\n",
       " 'base_valid_hit_rate': 0.9310344827586207,\n",
       " 'base_valid_mrr': 0.8849137931034482,\n",
       " 'boost_train_hit_rate': 0.9224137931034483,\n",
       " 'boost_train_mrr': 0.9083692528735641,\n",
       " 'boost_valid_hit_rate': 0.9396551724137931,\n",
       " 'boost_valid_mrr': 0.8985632183908048}"
      ]
     },
     "execution_count": 82,
     "metadata": {},
     "output_type": "execute_result"
    }
   ],
   "source": [
    "results_opt_es_hybrid_rrf = read_document(REST_OPT_ES_HYBRID_RRF_PATH)\n",
    "results_opt_es_hybrid_rrf"
   ]
  },
  {
   "cell_type": "markdown",
   "id": "f87bc711-1c54-422d-b5cf-131179d1f60a",
   "metadata": {},
   "source": [
    "# Show Results"
   ]
  },
  {
   "cell_type": "code",
   "execution_count": 113,
   "id": "255ae4a5-4561-4baf-971f-0aea85e201b6",
   "metadata": {},
   "outputs": [
    {
     "name": "stdout",
     "output_type": "stream",
     "text": [
      "total 12K\n",
      "-rw-rw-r-- 1 aztleclan aztleclan 676 oct 26 23:00 res-opt-es-bm25.json\n",
      "-rw-rw-r-- 1 aztleclan aztleclan 723 oct 26 21:54 res-opt-es-hybrid.json\n",
      "-rw-rw-r-- 1 aztleclan aztleclan 724 oct 26 22:20 res-opt-es-hybrid-rrf.json\n"
     ]
    }
   ],
   "source": [
    "!ls -lh \"{EVAL_RETRIEVER_DATA_DIR}\""
   ]
  },
  {
   "cell_type": "code",
   "execution_count": 114,
   "id": "82a448e2-db07-47db-b7d8-3a2b8024b6db",
   "metadata": {},
   "outputs": [],
   "source": [
    "records_opt = []\n",
    "for filename in os.listdir(EVAL_RETRIEVER_DATA_DIR):\n",
    "    file_path = os.path.join(EVAL_RETRIEVER_DATA_DIR, filename)\n",
    "    if not filename.endswith(\".json\"):\n",
    "        continue\n",
    "    doc = read_document(file_path)\n",
    "    records_opt.append(doc)"
   ]
  },
  {
   "cell_type": "code",
   "execution_count": 115,
   "id": "ebf968e7-950f-4ed1-8486-780520b7e409",
   "metadata": {},
   "outputs": [],
   "source": [
    "metric_df = pd.DataFrame.from_dict(records_opt)\n",
    "metric_df = metric_df.sort_values(by='boost_valid_mrr', ascending=False)"
   ]
  },
  {
   "cell_type": "code",
   "execution_count": 116,
   "id": "bc2966d0-f913-4b96-ab86-5c77f25ef046",
   "metadata": {},
   "outputs": [
    {
     "data": {
      "text/html": [
       "<div>\n",
       "<style scoped>\n",
       "    .dataframe tbody tr th:only-of-type {\n",
       "        vertical-align: middle;\n",
       "    }\n",
       "\n",
       "    .dataframe tbody tr th {\n",
       "        vertical-align: top;\n",
       "    }\n",
       "\n",
       "    .dataframe thead th {\n",
       "        text-align: right;\n",
       "    }\n",
       "</style>\n",
       "<table border=\"1\" class=\"dataframe\">\n",
       "  <thead>\n",
       "    <tr style=\"text-align: right;\">\n",
       "      <th></th>\n",
       "      <th>method</th>\n",
       "      <th>base_train_mrr</th>\n",
       "      <th>base_valid_mrr</th>\n",
       "      <th>boost_train_mrr</th>\n",
       "      <th>boost_valid_mrr</th>\n",
       "    </tr>\n",
       "  </thead>\n",
       "  <tbody>\n",
       "    <tr>\n",
       "      <th>1</th>\n",
       "      <td>es_hybrid</td>\n",
       "      <td>0.894289</td>\n",
       "      <td>0.889440</td>\n",
       "      <td>0.919468</td>\n",
       "      <td>0.907759</td>\n",
       "    </tr>\n",
       "    <tr>\n",
       "      <th>2</th>\n",
       "      <td>es_hybrid_rrf</td>\n",
       "      <td>0.889458</td>\n",
       "      <td>0.884914</td>\n",
       "      <td>0.908369</td>\n",
       "      <td>0.898563</td>\n",
       "    </tr>\n",
       "    <tr>\n",
       "      <th>0</th>\n",
       "      <td>es_bm25</td>\n",
       "      <td>0.879005</td>\n",
       "      <td>0.871193</td>\n",
       "      <td>0.893337</td>\n",
       "      <td>0.879023</td>\n",
       "    </tr>\n",
       "  </tbody>\n",
       "</table>\n",
       "</div>"
      ],
      "text/plain": [
       "          method  base_train_mrr  base_valid_mrr  boost_train_mrr  \\\n",
       "1      es_hybrid        0.894289        0.889440         0.919468   \n",
       "2  es_hybrid_rrf        0.889458        0.884914         0.908369   \n",
       "0        es_bm25        0.879005        0.871193         0.893337   \n",
       "\n",
       "   boost_valid_mrr  \n",
       "1         0.907759  \n",
       "2         0.898563  \n",
       "0         0.879023  "
      ]
     },
     "execution_count": 116,
     "metadata": {},
     "output_type": "execute_result"
    }
   ],
   "source": [
    "metric_df[[\"method\", \"base_train_mrr\", \"base_valid_mrr\", \"boost_train_mrr\", \"boost_valid_mrr\"]]"
   ]
  },
  {
   "cell_type": "code",
   "execution_count": null,
   "id": "c11b195b-8e25-481a-a817-d2b84e07f9c0",
   "metadata": {},
   "outputs": [],
   "source": []
  }
 ],
 "metadata": {
  "kernelspec": {
   "display_name": "Python 3 (ipykernel)",
   "language": "python",
   "name": "python3"
  },
  "language_info": {
   "codemirror_mode": {
    "name": "ipython",
    "version": 3
   },
   "file_extension": ".py",
   "mimetype": "text/x-python",
   "name": "python",
   "nbconvert_exporter": "python",
   "pygments_lexer": "ipython3",
   "version": "3.10.12"
  }
 },
 "nbformat": 4,
 "nbformat_minor": 5
}
